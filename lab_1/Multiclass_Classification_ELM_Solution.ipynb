{
 "cells": [
  {
   "cell_type": "markdown",
   "id": "ed536058",
   "metadata": {},
   "source": [
    "## **Multiclass Classification** \n",
    "\n",
    "## **Objective**\n",
    "\n",
    "This tutorial demonstrates a multiclass classification using extreme learning machine (ELM) and kernel method. First, you implement ELM by using the least-square method and observe its training and testing accuracy behavior. Second, you compare it with the kernel method when using a linear kernel and investigate the importance of random weights. \n",
    "\n",
    "Note: the Bonus exercises are not mandatory and will not be used as a grading criterion. However, interested students are encouraged to solve them to have better hands-on coding.\n",
    "\n",
    "## **Homeworks**\n",
    "\n",
    "In this notebook, read the code carefully and complete it to do the following:\n",
    "\n",
    "1. Plot training and testing accuracy of ELM versus different values of $\\lambda = 10^{-10}, 10^{-9}, 10^{-8}, \\cdots, 10^{10}$ in a single figure.\n",
    "2. What is the best value for the hyperparameter $\\lambda$?\n",
    "3. Choose the best value of $\\lambda$, and plot training and testing accuracy of ELM for different values of hidden neurons $n$ in a single figure.\n",
    "4. Find the testing accuracy of the kernel method when using a Gaussian kernel directly on the data.\n",
    "\n",
    "## **Bonus**\n",
    "\n",
    "Implement regularized ELM by using a library of your choice and achieve the same test accuracy as above. For instance, you can use PyTorch."
   ]
  },
  {
   "cell_type": "code",
   "execution_count": 55,
   "id": "cbd464b8",
   "metadata": {},
   "outputs": [],
   "source": [
    "# Import necessary libraries\n",
    "import numpy as np\n",
    "from scipy.io import loadmat\n",
    "import torch\n",
    "from torch import nn\n",
    "import matplotlib.pyplot as plt"
   ]
  },
  {
   "cell_type": "markdown",
   "id": "e7ca443f",
   "metadata": {},
   "source": [
    "## **Definition of the required functions**\n",
    "\n",
    "Here, we define some of the functions that we are going to use later in this example. In this example, we use the Vowel dataset which contains 11 different vowels in English as described below. The speakers are indexed by integers 0-89. (Actually, there are fifteen individual speakers, each saying each vowel six times.) For each utterance, there are ten floating-point input values, with array indices 0-9. The problem is to train the network as well as possible using only on data from \"speakers\" 0-47, and then to test the network on speakers 48-89, reporting the number of correct classifications in the test set. For more information regarding the Vowel dataset refer to [this page](https://archive.ics.uci.edu/ml/datasets/Connectionist+Bench+(Vowel+Recognition+-+Deterding+Data)).\n",
    "\n",
    "First, you implement ELM by using regularized least-square method and observe its the training and testing accuracy. Let us use a matrix notation for convenience and note the training samples by $\\mathbf{X}=[\\mathbf{x}_1, \\cdots, \\mathbf{x}_J] \\in \\mathbb{R}^{P \\times J}$ and their corresponding targets by $\\mathbf{T}=[\\mathbf{t}_1, \\cdots, \\mathbf{t}_J] \\in \\mathbb{R}^{Q \\times J}$. Here, $P$ is the input samples dimension, $Q$ is the target dimension (number of classes), and $J$ is the number of training samples. The training of regularized ELM can be written as \n",
    "\\begin{align}\n",
    "    \\mathbf{W}^{\\star} = \\underset{\\mathbf{W}}{\\arg\\min} ||\\mathbf{T} - \\mathbf{W} \\mathbf{Y}||_F^2 + \\lambda ||\\mathbf{W}||_F^2,\n",
    "\\end{align}\n",
    "where $\\mathbf{Y} = \\mathbf{g}(\\mathbf{R}\\mathbf{X}+\\mathbf{B}) \\in \\mathbb{R}^{n \\times J}$ is the output of the activation function $\\mathbf{g}$ and $n$ is the number of hidden neurons. Note that the weight matrix $\\mathbf{R} \\in \\mathbb{R}^{n \\times P}$ and the bias matrix $\\mathbf{B}=[\\mathbf{b},\\cdots,\\mathbf{b}] \\in \\mathbb{R}^{n \\times J}$ are chosen as an instance of a random distribution. This minimization problem has the following closed-form solution\n",
    "\\begin{align}\n",
    "    \\mathbf{W}^{\\star} = \\mathbf{T} \\mathbf{Y}'(\\mathbf{Y}\\mathbf{Y}' + \\lambda \\mathbf{I})^{-1},\n",
    "\\end{align}\n",
    "Where $\\mathbf{I} \\in \\mathbb{R}^{n \\times n}$ is the identity matrix. Now we define ${\\texttt{LS(Y_train, T_train, lam)}}$ as the least-square function according to the above derivations. We also define ${\\texttt{calculate_accuracy}}$ function to measure the classification accuracy.\n"
   ]
  },
  {
   "cell_type": "code",
   "execution_count": 56,
   "id": "6b8a692e",
   "metadata": {},
   "outputs": [],
   "source": [
    "# Define the function to load the dataset\n",
    "def prepare_dataset(dataset_location=\"./Vowel.mat\"):\n",
    "    \"\"\"\n",
    "    An example of how the dataset looks in practice:\n",
    "    +-------+--------+-------+---------+\n",
    "        | vowel |  word  | vowel |  word   | \n",
    "        +-------+--------+-------+---------+\n",
    "        |  i    |  heed  |  O    |  hod    |\n",
    "        |  I    |  hid   |  C:   |  hoard  |\n",
    "        |  E    |  head  |  U    |  hood   |\n",
    "        |  A    |  had   |  u:   |  who'd  |\n",
    "        |  a:   |  hard  |  3:   |  heard  |\n",
    "        |  Y    |  hud   |       |         |\n",
    "        +-------+--------+-------+---------+\n",
    "    \"\"\"\n",
    "    X = loadmat(dataset_location)[\"featureMat\"]\n",
    "    Y = loadmat(dataset_location)[\"labelMat\"]\n",
    "    X_train, X_test = X[:, :528].astype(np.float32), X[:, 528:].astype(np.float32)\n",
    "    Y_train, Y_test = Y[:, :528].astype(np.float32), Y[:, 528:].astype(np.float32) \n",
    "    return X_train, X_test, Y_train, Y_test"
   ]
  },
  {
   "cell_type": "markdown",
   "id": "a418d320",
   "metadata": {},
   "source": [
    "## **Training ELM by using least-square method**\n",
    "\n",
    "We set the number of hidden neurons $n$ and the regularization hyperparameter $\\lambda$, and construct a single layer neural network."
   ]
  },
  {
   "cell_type": "code",
   "execution_count": 57,
   "id": "ba32ace8",
   "metadata": {},
   "outputs": [],
   "source": [
    "def calculate_accuracy(S, T):\n",
    "    # S: predicted\n",
    "    # T: given\n",
    "    Y = np.argmax(S, axis=0)\n",
    "    T = np.argmax(T, axis=0)\n",
    "    accuracy = np.sum([Y == T]) / Y.shape[0]\n",
    "    return accuracy"
   ]
  },
  {
   "cell_type": "code",
   "execution_count": 58,
   "id": "d74a58ed",
   "metadata": {},
   "outputs": [],
   "source": [
    "class ELM(object):\n",
    "    \n",
    "    def __init__(self, n, lam, P):\n",
    "        self.n = n\n",
    "        self.lam = lam\n",
    "        self.Ri = self.initialise_random_matrix(M=n, N=P)\n",
    "        self.b = self.initialise_random_matrix(M=n, N=1)\n",
    "        self.W_ls = None\n",
    "    \n",
    "    def activation_function(self, Z):\n",
    "        return np.maximum(0, Z)\n",
    "\n",
    "    def initialise_random_matrix(self, M, N):\n",
    "        return np.random.uniform(low = -1, high = 1, size = (M,N)) \n",
    "        #return A - np.mean(A)\n",
    "        #return np.random.normal(0, 1, size=(M, N))\n",
    "\n",
    "    def LS(self, Y, T):\n",
    "        \"\"\"Solve the optimization problem as regularized least-squares\"\"\"\n",
    "        P = Y.shape[0]\n",
    "        W_ls = np.dot(np.dot(T,Y.T), np.linalg.inv(np.dot(Y,Y.T) + self.lam * np.eye(P))).astype(np.float32)\n",
    "        return W_ls\n",
    "    \n",
    "    def train(self, X, T):\n",
    "        \n",
    "        N = X.shape[1]\n",
    "        Zi = np.dot(self.Ri, X) + np.tile(self.b,(1,N))\n",
    "        Yi = self.activation_function(Z=Zi)\n",
    "        self.W_ls = self.LS(Y=Yi, T=T)\n",
    "        #T_hat = np.dot(self.W_ls, Yi)\n",
    "        #return T_hat\n",
    "    \n",
    "    def evaluate(self, X):\n",
    "        \n",
    "        N = X.shape[1]\n",
    "        Zi = np.dot(self.Ri, X) + np.tile(self.b,(1,N))\n",
    "        Yi = self.activation_function(Z=Zi)\n",
    "        T_hat = np.dot(self.W_ls, Yi)\n",
    "        return T_hat\n",
    "        "
   ]
  },
  {
   "cell_type": "code",
   "execution_count": 59,
   "id": "5a1313ee",
   "metadata": {},
   "outputs": [],
   "source": [
    "def train_ELM(X_train, T_train, X_val=None, T_val=None, n=2000, lam=1e2):\n",
    "    \n",
    "    elm_net = ELM(n=n, lam=lam, P=X_train.shape[0])\n",
    "    elm_net.train(X=X_train, T=T_train)\n",
    "    T_hat_train = elm_net.evaluate(X=X_train)\n",
    "    T_hat_val = elm_net.evaluate(X=X_val)\n",
    "    acc_train = calculate_accuracy(T_hat_train, T_train)\n",
    "    acc_val = calculate_accuracy(T_hat_val, T_val)\n",
    "    \n",
    "    return acc_train, acc_val, elm_net"
   ]
  },
  {
   "cell_type": "markdown",
   "id": "9fffb1ed",
   "metadata": {},
   "source": [
    "## Get an initial estimate of accuracy from an ELM"
   ]
  },
  {
   "cell_type": "code",
   "execution_count": 60,
   "id": "f63da73d",
   "metadata": {},
   "outputs": [],
   "source": [
    "# Get the dataset\n",
    "X_train, X_test, T_train, T_test = prepare_dataset(dataset_location=\"./Vowel.mat\")"
   ]
  },
  {
   "cell_type": "code",
   "execution_count": 61,
   "id": "888add63",
   "metadata": {},
   "outputs": [],
   "source": [
    "P= X_train.shape[0] # Input features\n",
    "Q = T_train.shape[0] # Output label size\n",
    "N_train = X_train.shape[1] # Number of samples in training data\n",
    "N_test = X_test.shape[1] # Number of samples in test data"
   ]
  },
  {
   "cell_type": "code",
   "execution_count": 62,
   "id": "4f3961b3",
   "metadata": {},
   "outputs": [
    {
     "name": "stdout",
     "output_type": "stream",
     "text": [
      "10 11 528 462\n"
     ]
    }
   ],
   "source": [
    "print(P, Q, N_train, N_test)"
   ]
  },
  {
   "cell_type": "code",
   "execution_count": 63,
   "id": "c5925f8c",
   "metadata": {},
   "outputs": [],
   "source": [
    "def split_tr_val_data(X, T, train_val_split=0.8):\n",
    "    \n",
    "    N = X.shape[1]\n",
    "    indices = np.random.permutation(N)\n",
    "    num_train_samples = int(train_val_split * len(indices))\n",
    "    num_val_samples = len(indices) - num_train_samples\n",
    "    train_indices = indices[:num_train_samples]\n",
    "    val_indices = indices[num_train_samples:]\n",
    "    X_train, T_train = X[:, train_indices], T[:, train_indices]\n",
    "    X_val, T_val = X[:, val_indices], T[:, val_indices]\n",
    "    print(X_train.shape, T_train.shape, X_val.shape, T_val.shape)\n",
    "    return X_train, T_train, X_val, T_val"
   ]
  },
  {
   "cell_type": "code",
   "execution_count": 64,
   "id": "be1e9377",
   "metadata": {},
   "outputs": [
    {
     "name": "stdout",
     "output_type": "stream",
     "text": [
      "(10, 422) (11, 422) (10, 106) (11, 106)\n"
     ]
    }
   ],
   "source": [
    "tr_to_val_split = 0.8\n",
    "X_train, T_train, X_val, T_val = split_tr_val_data(X=X_train, T=T_train, train_val_split=tr_to_val_split)"
   ]
  },
  {
   "cell_type": "code",
   "execution_count": 88,
   "id": "ba7b7b60",
   "metadata": {},
   "outputs": [
    {
     "name": "stdout",
     "output_type": "stream",
     "text": [
      "Optimized Lambda: 0.01, Acc_train: 1.0, Acc_val: 0.9905660377358491, Acc_test: 0.45670995670995673\n"
     ]
    }
   ],
   "source": [
    "acc_train_star, acc_val_star, elm_net_star = train_ELM(X_train, T_train, X_val, T_val, n=2000, lam=1e-2)\n",
    "T_hat_test = elm_net_star.evaluate(X=X_test)\n",
    "acc_test_star = calculate_accuracy(T_hat_test, T_test)\n",
    "print(\"Optimized Lambda: {}, Acc_train: {}, Acc_val: {}, Acc_test: {}\".format(1e-2, \n",
    "                                                                              acc_train_star, \n",
    "                                                                              acc_val_star, \n",
    "                                                                              acc_test_star))"
   ]
  },
  {
   "cell_type": "code",
   "execution_count": 66,
   "id": "6e04ec60",
   "metadata": {},
   "outputs": [],
   "source": [
    "lam_arr = np.logspace(-16, 11, 28)\n",
    "n = 2000"
   ]
  },
  {
   "cell_type": "markdown",
   "id": "0a1c54db",
   "metadata": {},
   "source": [
    "## Grid search CV: Sweeping over a set of parameters $\\lambda$ to find the ELM with most suited architecture"
   ]
  },
  {
   "cell_type": "code",
   "execution_count": 67,
   "id": "e9460552",
   "metadata": {},
   "outputs": [],
   "source": [
    "from sklearn.base import BaseEstimator\n",
    "\n",
    "class ELM_estimator(BaseEstimator):\n",
    "    \n",
    "    def __init__(self, n=2000, lam=1e-5, P=10):\n",
    "        super().__init__()\n",
    "        self.n = n\n",
    "        self.lam = lam\n",
    "        self.P = P\n",
    "        self.Ri = self.initialise_random_matrix(M=self.n, N=self.P)\n",
    "        self.b = self.initialise_random_matrix(M=n, N=1)\n",
    "        self.W_ls= None # Fitting parameters\n",
    "    \n",
    "    def activation_function(self, Z):\n",
    "        return np.maximum(0, Z)\n",
    "\n",
    "    def initialise_random_matrix(self, M, N):\n",
    "        return np.random.uniform(low = -1, high = 1, size = (M,N)) \n",
    "        #return A - np.mean(A)\n",
    "        #return np.random.normal(0, 1, size=(M, N))\n",
    "\n",
    "    def LS(self, Y, T):\n",
    "        \"\"\"Solve the optimization problem as regularized least-squares\"\"\"\n",
    "        P = Y.shape[0]\n",
    "        W_ls = np.dot(np.dot(T,Y.T), np.linalg.inv(np.dot(Y,Y.T) + self.lam * np.eye(P))).astype(np.float32)\n",
    "        return W_ls\n",
    "    \n",
    "    def fit(self, X, T):\n",
    "        \n",
    "        X, T = X.T, T.T\n",
    "        N = X.shape[1]\n",
    "        Zi = np.dot(self.Ri, X) + np.tile(self.b, (1,N))\n",
    "        Yi = self.activation_function(Z=Zi)\n",
    "        self.W_ls = self.LS(Y=Yi, T=T)\n",
    "        return self\n",
    "        #T_hat = np.dot(self.W_ls, Yi)\n",
    "        #return T_hat\n",
    "    \n",
    "    def predict(self, X):\n",
    "        \n",
    "        X = X.T\n",
    "        N = X.shape[1]\n",
    "        Zi = np.dot(self.Ri, X) + np.tile(self.b,(1,N))\n",
    "        Yi = self.activation_function(Z=Zi)\n",
    "        T_hat = np.dot(self.W_ls, Yi)\n",
    "        return T_hat\n",
    "    \n",
    "    def score(self, X, T):\n",
    "        \n",
    "        T = np.transpose(T)\n",
    "        T_hat = self.predict(X)\n",
    "        Y = np.argmax(T_hat, axis=0)\n",
    "        T = np.argmax(T, axis=0)\n",
    "        \n",
    "        accuracy = np.sum([Y == T]) / Y.shape[0]\n",
    "        return accuracy\n",
    "        "
   ]
  },
  {
   "cell_type": "code",
   "execution_count": 68,
   "id": "59b390c9",
   "metadata": {},
   "outputs": [],
   "source": [
    "# You can set these parameter dictionaries as you like to search over a grid of parameters\n",
    "param_grid = {'lam': np.logspace(-10, 6, 5).tolist(),  \n",
    "              'n': np.linspace(20, 2000, 5).astype(np.int16).tolist(),\n",
    "              'P':[X_train.shape[0]]\n",
    "             } "
   ]
  },
  {
   "cell_type": "code",
   "execution_count": 69,
   "id": "15fd6931",
   "metadata": {},
   "outputs": [],
   "source": [
    "from sklearn.model_selection import GridSearchCV"
   ]
  },
  {
   "cell_type": "code",
   "execution_count": 70,
   "id": "c6bfeca9",
   "metadata": {},
   "outputs": [
    {
     "name": "stdout",
     "output_type": "stream",
     "text": [
      "Fitting 5 folds for each of 25 candidates, totalling 125 fits\n",
      "[CV 1/5] END .............P=10, lam=1e-10, n=20;, score=0.698 total time=   0.3s\n",
      "[CV 2/5] END .............P=10, lam=1e-10, n=20;, score=0.594 total time=   0.3s\n",
      "[CV 3/5] END .............P=10, lam=1e-10, n=20;, score=0.179 total time=   0.3s\n",
      "[CV 4/5] END .............P=10, lam=1e-10, n=20;, score=0.514 total time=   0.3s\n",
      "[CV 5/5] END .............P=10, lam=1e-10, n=20;, score=0.505 total time=   0.3s\n",
      "[CV 1/5] END ............P=10, lam=1e-10, n=515;, score=0.670 total time=   0.3s\n",
      "[CV 2/5] END ............P=10, lam=1e-10, n=515;, score=0.566 total time=   0.3s\n",
      "[CV 3/5] END ............P=10, lam=1e-10, n=515;, score=0.783 total time=   0.3s\n",
      "[CV 4/5] END ............P=10, lam=1e-10, n=515;, score=0.562 total time=   0.4s\n",
      "[CV 5/5] END ............P=10, lam=1e-10, n=515;, score=0.467 total time=   0.3s\n",
      "[CV 1/5] END ...........P=10, lam=1e-10, n=1010;, score=0.651 total time=   0.3s\n",
      "[CV 2/5] END ...........P=10, lam=1e-10, n=1010;, score=0.557 total time=   0.3s\n",
      "[CV 3/5] END ...........P=10, lam=1e-10, n=1010;, score=0.821 total time=   0.4s\n",
      "[CV 4/5] END ...........P=10, lam=1e-10, n=1010;, score=0.629 total time=   0.3s\n",
      "[CV 5/5] END ...........P=10, lam=1e-10, n=1010;, score=0.524 total time=   0.3s\n",
      "[CV 1/5] END ...........P=10, lam=1e-10, n=1505;, score=0.660 total time=   0.3s\n",
      "[CV 2/5] END ...........P=10, lam=1e-10, n=1505;, score=0.585 total time=   0.3s\n",
      "[CV 3/5] END ...........P=10, lam=1e-10, n=1505;, score=0.811 total time=   0.3s\n",
      "[CV 4/5] END ...........P=10, lam=1e-10, n=1505;, score=0.495 total time=   0.3s\n",
      "[CV 5/5] END ...........P=10, lam=1e-10, n=1505;, score=0.390 total time=   0.3s\n",
      "[CV 1/5] END ...........P=10, lam=1e-10, n=2000;, score=0.491 total time=   0.3s\n",
      "[CV 2/5] END ...........P=10, lam=1e-10, n=2000;, score=0.594 total time=   0.3s\n",
      "[CV 3/5] END ...........P=10, lam=1e-10, n=2000;, score=0.670 total time=   0.3s\n",
      "[CV 4/5] END ...........P=10, lam=1e-10, n=2000;, score=0.638 total time=   0.3s\n",
      "[CV 5/5] END ...........P=10, lam=1e-10, n=2000;, score=0.381 total time=   0.3s\n",
      "[CV 1/5] END .............P=10, lam=1e-06, n=20;, score=0.632 total time=   0.3s\n",
      "[CV 2/5] END .............P=10, lam=1e-06, n=20;, score=0.585 total time=   0.3s\n",
      "[CV 3/5] END .............P=10, lam=1e-06, n=20;, score=0.811 total time=   0.3s\n",
      "[CV 4/5] END .............P=10, lam=1e-06, n=20;, score=0.610 total time=   0.4s\n",
      "[CV 5/5] END .............P=10, lam=1e-06, n=20;, score=0.486 total time=   0.3s\n",
      "[CV 1/5] END ............P=10, lam=1e-06, n=515;, score=0.651 total time=   0.4s\n",
      "[CV 2/5] END ............P=10, lam=1e-06, n=515;, score=0.566 total time=   0.3s\n",
      "[CV 3/5] END ............P=10, lam=1e-06, n=515;, score=0.811 total time=   0.4s\n",
      "[CV 4/5] END ............P=10, lam=1e-06, n=515;, score=0.619 total time=   0.3s\n",
      "[CV 5/5] END ............P=10, lam=1e-06, n=515;, score=0.495 total time=   0.3s\n",
      "[CV 1/5] END ...........P=10, lam=1e-06, n=1010;, score=0.632 total time=   0.3s\n",
      "[CV 2/5] END ...........P=10, lam=1e-06, n=1010;, score=0.604 total time=   0.3s\n",
      "[CV 3/5] END ...........P=10, lam=1e-06, n=1010;, score=0.811 total time=   0.3s\n",
      "[CV 4/5] END ...........P=10, lam=1e-06, n=1010;, score=0.600 total time=   0.3s\n",
      "[CV 5/5] END ...........P=10, lam=1e-06, n=1010;, score=0.438 total time=   0.3s\n",
      "[CV 1/5] END ...........P=10, lam=1e-06, n=1505;, score=0.613 total time=   0.3s\n",
      "[CV 2/5] END ...........P=10, lam=1e-06, n=1505;, score=0.566 total time=   0.3s\n",
      "[CV 3/5] END ...........P=10, lam=1e-06, n=1505;, score=0.792 total time=   0.4s\n",
      "[CV 4/5] END ...........P=10, lam=1e-06, n=1505;, score=0.648 total time=   0.3s\n",
      "[CV 5/5] END ...........P=10, lam=1e-06, n=1505;, score=0.467 total time=   0.3s\n",
      "[CV 1/5] END ...........P=10, lam=1e-06, n=2000;, score=0.651 total time=   0.3s\n",
      "[CV 2/5] END ...........P=10, lam=1e-06, n=2000;, score=0.651 total time=   0.3s\n",
      "[CV 3/5] END ...........P=10, lam=1e-06, n=2000;, score=0.840 total time=   0.3s\n",
      "[CV 4/5] END ...........P=10, lam=1e-06, n=2000;, score=0.629 total time=   0.4s\n",
      "[CV 5/5] END ...........P=10, lam=1e-06, n=2000;, score=0.400 total time=   0.4s\n",
      "[CV 1/5] END ..............P=10, lam=0.01, n=20;, score=0.670 total time=   0.4s\n",
      "[CV 2/5] END ..............P=10, lam=0.01, n=20;, score=0.604 total time=   0.3s\n",
      "[CV 3/5] END ..............P=10, lam=0.01, n=20;, score=0.802 total time=   0.4s\n",
      "[CV 4/5] END ..............P=10, lam=0.01, n=20;, score=0.590 total time=   0.4s\n",
      "[CV 5/5] END ..............P=10, lam=0.01, n=20;, score=0.505 total time=   0.4s\n",
      "[CV 1/5] END .............P=10, lam=0.01, n=515;, score=0.660 total time=   0.3s\n",
      "[CV 2/5] END .............P=10, lam=0.01, n=515;, score=0.566 total time=   0.3s\n",
      "[CV 3/5] END .............P=10, lam=0.01, n=515;, score=0.802 total time=   0.3s\n",
      "[CV 4/5] END .............P=10, lam=0.01, n=515;, score=0.629 total time=   0.3s\n",
      "[CV 5/5] END .............P=10, lam=0.01, n=515;, score=0.457 total time=   0.3s\n",
      "[CV 1/5] END ............P=10, lam=0.01, n=1010;, score=0.689 total time=   0.4s\n",
      "[CV 2/5] END ............P=10, lam=0.01, n=1010;, score=0.642 total time=   0.4s\n",
      "[CV 3/5] END ............P=10, lam=0.01, n=1010;, score=0.792 total time=   0.4s\n",
      "[CV 4/5] END ............P=10, lam=0.01, n=1010;, score=0.571 total time=   0.3s\n",
      "[CV 5/5] END ............P=10, lam=0.01, n=1010;, score=0.457 total time=   0.3s\n",
      "[CV 1/5] END ............P=10, lam=0.01, n=1505;, score=0.689 total time=   0.3s\n",
      "[CV 2/5] END ............P=10, lam=0.01, n=1505;, score=0.623 total time=   0.3s\n",
      "[CV 3/5] END ............P=10, lam=0.01, n=1505;, score=0.821 total time=   0.3s\n",
      "[CV 4/5] END ............P=10, lam=0.01, n=1505;, score=0.667 total time=   0.3s\n",
      "[CV 5/5] END ............P=10, lam=0.01, n=1505;, score=0.429 total time=   0.3s\n",
      "[CV 1/5] END ............P=10, lam=0.01, n=2000;, score=0.604 total time=   0.3s\n",
      "[CV 2/5] END ............P=10, lam=0.01, n=2000;, score=0.575 total time=   0.4s\n",
      "[CV 3/5] END ............P=10, lam=0.01, n=2000;, score=0.764 total time=   0.3s\n",
      "[CV 4/5] END ............P=10, lam=0.01, n=2000;, score=0.552 total time=   0.3s\n",
      "[CV 5/5] END ............P=10, lam=0.01, n=2000;, score=0.524 total time=   0.4s\n",
      "[CV 1/5] END .............P=10, lam=100.0, n=20;, score=0.575 total time=   0.3s\n",
      "[CV 2/5] END .............P=10, lam=100.0, n=20;, score=0.557 total time=   0.3s\n",
      "[CV 3/5] END .............P=10, lam=100.0, n=20;, score=0.774 total time=   0.3s\n",
      "[CV 4/5] END .............P=10, lam=100.0, n=20;, score=0.657 total time=   0.3s\n",
      "[CV 5/5] END .............P=10, lam=100.0, n=20;, score=0.381 total time=   0.3s\n",
      "[CV 1/5] END ............P=10, lam=100.0, n=515;, score=0.547 total time=   0.3s\n",
      "[CV 2/5] END ............P=10, lam=100.0, n=515;, score=0.623 total time=   0.3s\n",
      "[CV 3/5] END ............P=10, lam=100.0, n=515;, score=0.783 total time=   0.3s\n",
      "[CV 4/5] END ............P=10, lam=100.0, n=515;, score=0.648 total time=   0.3s\n",
      "[CV 5/5] END ............P=10, lam=100.0, n=515;, score=0.362 total time=   0.4s\n",
      "[CV 1/5] END ...........P=10, lam=100.0, n=1010;, score=0.557 total time=   0.4s\n",
      "[CV 2/5] END ...........P=10, lam=100.0, n=1010;, score=0.594 total time=   0.3s\n",
      "[CV 3/5] END ...........P=10, lam=100.0, n=1010;, score=0.783 total time=   0.3s\n",
      "[CV 4/5] END ...........P=10, lam=100.0, n=1010;, score=0.648 total time=   0.3s\n",
      "[CV 5/5] END ...........P=10, lam=100.0, n=1010;, score=0.362 total time=   0.4s\n",
      "[CV 1/5] END ...........P=10, lam=100.0, n=1505;, score=0.566 total time=   0.4s\n",
      "[CV 2/5] END ...........P=10, lam=100.0, n=1505;, score=0.585 total time=   0.4s\n",
      "[CV 3/5] END ...........P=10, lam=100.0, n=1505;, score=0.774 total time=   0.3s\n",
      "[CV 4/5] END ...........P=10, lam=100.0, n=1505;, score=0.657 total time=   0.5s\n",
      "[CV 5/5] END ...........P=10, lam=100.0, n=1505;, score=0.324 total time=   0.4s\n",
      "[CV 1/5] END ...........P=10, lam=100.0, n=2000;, score=0.575 total time=   0.4s\n",
      "[CV 2/5] END ...........P=10, lam=100.0, n=2000;, score=0.613 total time=   0.3s\n",
      "[CV 3/5] END ...........P=10, lam=100.0, n=2000;, score=0.802 total time=   0.4s\n",
      "[CV 4/5] END ...........P=10, lam=100.0, n=2000;, score=0.648 total time=   0.4s\n",
      "[CV 5/5] END ...........P=10, lam=100.0, n=2000;, score=0.343 total time=   0.4s\n",
      "[CV 1/5] END .........P=10, lam=1000000.0, n=20;, score=0.274 total time=   0.4s\n"
     ]
    },
    {
     "name": "stdout",
     "output_type": "stream",
     "text": [
      "[CV 2/5] END .........P=10, lam=1000000.0, n=20;, score=0.208 total time=   0.4s\n",
      "[CV 3/5] END .........P=10, lam=1000000.0, n=20;, score=0.292 total time=   0.4s\n",
      "[CV 4/5] END .........P=10, lam=1000000.0, n=20;, score=0.267 total time=   0.4s\n",
      "[CV 5/5] END .........P=10, lam=1000000.0, n=20;, score=0.095 total time=   0.4s\n",
      "[CV 1/5] END ........P=10, lam=1000000.0, n=515;, score=0.274 total time=   0.5s\n",
      "[CV 2/5] END ........P=10, lam=1000000.0, n=515;, score=0.208 total time=   0.4s\n",
      "[CV 3/5] END ........P=10, lam=1000000.0, n=515;, score=0.302 total time=   0.4s\n",
      "[CV 4/5] END ........P=10, lam=1000000.0, n=515;, score=0.267 total time=   0.4s\n",
      "[CV 5/5] END ........P=10, lam=1000000.0, n=515;, score=0.095 total time=   0.3s\n",
      "[CV 1/5] END .......P=10, lam=1000000.0, n=1010;, score=0.274 total time=   0.3s\n",
      "[CV 2/5] END .......P=10, lam=1000000.0, n=1010;, score=0.198 total time=   0.4s\n",
      "[CV 3/5] END .......P=10, lam=1000000.0, n=1010;, score=0.292 total time=   0.3s\n",
      "[CV 4/5] END .......P=10, lam=1000000.0, n=1010;, score=0.267 total time=   0.3s\n",
      "[CV 5/5] END .......P=10, lam=1000000.0, n=1010;, score=0.095 total time=   0.3s\n",
      "[CV 1/5] END .......P=10, lam=1000000.0, n=1505;, score=0.274 total time=   0.3s\n",
      "[CV 2/5] END .......P=10, lam=1000000.0, n=1505;, score=0.198 total time=   0.3s\n",
      "[CV 3/5] END .......P=10, lam=1000000.0, n=1505;, score=0.311 total time=   0.4s\n",
      "[CV 4/5] END .......P=10, lam=1000000.0, n=1505;, score=0.267 total time=   0.4s\n",
      "[CV 5/5] END .......P=10, lam=1000000.0, n=1505;, score=0.095 total time=   0.4s\n",
      "[CV 1/5] END .......P=10, lam=1000000.0, n=2000;, score=0.274 total time=   0.4s\n",
      "[CV 2/5] END .......P=10, lam=1000000.0, n=2000;, score=0.189 total time=   0.3s\n",
      "[CV 3/5] END .......P=10, lam=1000000.0, n=2000;, score=0.292 total time=   0.4s\n",
      "[CV 4/5] END .......P=10, lam=1000000.0, n=2000;, score=0.267 total time=   0.4s\n",
      "[CV 5/5] END .......P=10, lam=1000000.0, n=2000;, score=0.086 total time=   0.4s\n"
     ]
    },
    {
     "data": {
      "text/plain": [
       "GridSearchCV(cv=5, estimator=ELM_estimator(),\n",
       "             param_grid={'P': [10],\n",
       "                         'lam': [1e-10, 1e-06, 0.01, 100.0, 1000000.0],\n",
       "                         'n': [20, 515, 1010, 1505, 2000]},\n",
       "             verbose=3)"
      ]
     },
     "execution_count": 70,
     "metadata": {},
     "output_type": "execute_result"
    }
   ],
   "source": [
    "grid = GridSearchCV(ELM_estimator(), param_grid, refit = True, cv=5, verbose = 3) \n",
    "\n",
    "# Get the dataset\n",
    "X_train_all, X_test, T_train_all, T_test = prepare_dataset(dataset_location=\"./Vowel.mat\")\n",
    "\n",
    "# fitting the model for grid search \n",
    "grid.fit(X_train_all.T, T_train_all.T) "
   ]
  },
  {
   "cell_type": "code",
   "execution_count": 71,
   "id": "fb2aa9bf",
   "metadata": {},
   "outputs": [
    {
     "name": "stdout",
     "output_type": "stream",
     "text": [
      "{'P': 10, 'lam': 0.01, 'n': 1505}\n"
     ]
    }
   ],
   "source": [
    "# print best parameter after tuning \n",
    "print(grid.best_params_)"
   ]
  },
  {
   "cell_type": "code",
   "execution_count": 72,
   "id": "cd62d8be",
   "metadata": {},
   "outputs": [],
   "source": [
    "n_arr = np.unique(grid.cv_results_['param_n'].data)"
   ]
  },
  {
   "cell_type": "code",
   "execution_count": 73,
   "id": "eb21cd25",
   "metadata": {},
   "outputs": [
    {
     "data": {
      "text/plain": [
       "array([[4.98149146e-01, 1.00000000e-10],\n",
       "       [6.24707996e-01, 1.00000000e-06],\n",
       "       [6.34141959e-01, 1.00000000e-02],\n",
       "       [5.88751123e-01, 1.00000000e+02],\n",
       "       [2.27097934e-01, 1.00000000e+06]])"
      ]
     },
     "execution_count": 73,
     "metadata": {},
     "output_type": "execute_result"
    }
   ],
   "source": [
    "np.array([[m, p['lam']] for p,m in zip(grid.cv_results_['params'],grid.cv_results_['mean_test_score']) if p['n'] == 20])"
   ]
  },
  {
   "cell_type": "code",
   "execution_count": 74,
   "id": "263808b5",
   "metadata": {},
   "outputs": [
    {
     "data": {
      "text/plain": [
       "array([1e-10, 1e-06, 0.01, 100.0, 1000000.0], dtype=object)"
      ]
     },
     "execution_count": 74,
     "metadata": {},
     "output_type": "execute_result"
    }
   ],
   "source": [
    "np.unique(grid.cv_results_['param_lam'].data)"
   ]
  },
  {
   "cell_type": "code",
   "execution_count": 75,
   "id": "9646b414",
   "metadata": {},
   "outputs": [
    {
     "data": {
      "text/plain": [
       "[{'P': 10, 'lam': 1e-10, 'n': 20},\n",
       " {'P': 10, 'lam': 1e-10, 'n': 515},\n",
       " {'P': 10, 'lam': 1e-10, 'n': 1010},\n",
       " {'P': 10, 'lam': 1e-10, 'n': 1505},\n",
       " {'P': 10, 'lam': 1e-10, 'n': 2000},\n",
       " {'P': 10, 'lam': 1e-06, 'n': 20},\n",
       " {'P': 10, 'lam': 1e-06, 'n': 515},\n",
       " {'P': 10, 'lam': 1e-06, 'n': 1010},\n",
       " {'P': 10, 'lam': 1e-06, 'n': 1505},\n",
       " {'P': 10, 'lam': 1e-06, 'n': 2000},\n",
       " {'P': 10, 'lam': 0.01, 'n': 20},\n",
       " {'P': 10, 'lam': 0.01, 'n': 515},\n",
       " {'P': 10, 'lam': 0.01, 'n': 1010},\n",
       " {'P': 10, 'lam': 0.01, 'n': 1505},\n",
       " {'P': 10, 'lam': 0.01, 'n': 2000},\n",
       " {'P': 10, 'lam': 100.0, 'n': 20},\n",
       " {'P': 10, 'lam': 100.0, 'n': 515},\n",
       " {'P': 10, 'lam': 100.0, 'n': 1010},\n",
       " {'P': 10, 'lam': 100.0, 'n': 1505},\n",
       " {'P': 10, 'lam': 100.0, 'n': 2000},\n",
       " {'P': 10, 'lam': 1000000.0, 'n': 20},\n",
       " {'P': 10, 'lam': 1000000.0, 'n': 515},\n",
       " {'P': 10, 'lam': 1000000.0, 'n': 1010},\n",
       " {'P': 10, 'lam': 1000000.0, 'n': 1505},\n",
       " {'P': 10, 'lam': 1000000.0, 'n': 2000}]"
      ]
     },
     "execution_count": 75,
     "metadata": {},
     "output_type": "execute_result"
    }
   ],
   "source": [
    "grid.cv_results_['params']"
   ]
  },
  {
   "cell_type": "code",
   "execution_count": 76,
   "id": "8ceb9f07",
   "metadata": {},
   "outputs": [
    {
     "data": {
      "text/plain": [
       "array([0.49814915, 0.60948787, 0.63613657, 0.58846361, 0.55475292,\n",
       "       0.624708  , 0.62851752, 0.61705301, 0.61719677, 0.63401617,\n",
       "       0.63414196, 0.62280323, 0.63024259, 0.64546271, 0.60391734,\n",
       "       0.58875112, 0.5924708 , 0.58869721, 0.58109614, 0.59620845,\n",
       "       0.22709793, 0.22898473, 0.22521114, 0.22898473, 0.22141959])"
      ]
     },
     "execution_count": 76,
     "metadata": {},
     "output_type": "execute_result"
    }
   ],
   "source": [
    "grid.cv_results_['mean_test_score']"
   ]
  },
  {
   "cell_type": "code",
   "execution_count": 77,
   "id": "dacc4c4d",
   "metadata": {},
   "outputs": [
    {
     "data": {
      "image/png": "[encoded data removed]",
      "text/plain": [
       "<Figure size 1440x720 with 1 Axes>"
      ]
     },
     "metadata": {
      "needs_background": "light"
     },
     "output_type": "display_data"
    }
   ],
   "source": [
    "FontSize = 30\n",
    "csfont = {'fontname':'sans-serif'}\n",
    "fig = plt.figure(figsize=(20, 10))\n",
    "ax = fig.add_subplot(111)\n",
    "#plt.plot(lam_arr, val_accuracy_lists, 'r-', label=\"Validation Accuracy\")\n",
    "#plt.plot(lam_arr, train_accuracy_lists, 'b-', label=\"Train Accuracy\")\n",
    "for i, n in enumerate(n_arr):\n",
    "    mean_score_lambda_arr = np.array([[m, p['lam']] for p,m in zip(grid.cv_results_['params'],grid.cv_results_['mean_test_score']) if p['n'] == n])\n",
    "    plt.plot(mean_score_lambda_arr[:,1], mean_score_lambda_arr[:,0],  label=\"Validation Accuracy for n={}\".format(n))\n",
    "\n",
    "ax.set_xscale('log')\n",
    "plt.grid()\n",
    "plt.xticks(fontsize=FontSize)\n",
    "plt.yticks(fontsize=FontSize)\n",
    "plt.tight_layout()\n",
    "plt.legend(loc='best',fontsize=FontSize)\n",
    "plt.xlabel(\"Hyperparameter lambda\",fontdict=csfont, fontsize=FontSize)\n",
    "plt.ylabel(\"Classification Accuracy\",fontdict=csfont, fontsize=FontSize)\n",
    "plt.title(\"ELM performance on Vowel\", loc='center', fontsize=FontSize)\n",
    "plt.show()"
   ]
  },
  {
   "cell_type": "markdown",
   "id": "6c05a9ca",
   "metadata": {},
   "source": [
    "## Get the accuracy results on test data"
   ]
  },
  {
   "cell_type": "code",
   "execution_count": 78,
   "id": "68719926",
   "metadata": {},
   "outputs": [],
   "source": [
    "from sklearn.metrics import classification_report"
   ]
  },
  {
   "cell_type": "code",
   "execution_count": 80,
   "id": "57f1af2a",
   "metadata": {},
   "outputs": [
    {
     "name": "stdout",
     "output_type": "stream",
     "text": [
      "{'P': 10, 'lam': 0.01, 'n': 1505}\n",
      "              precision    recall  f1-score   support\n",
      "\n",
      "           0       0.83      0.57      0.68        42\n",
      "           1       0.43      0.48      0.45        42\n",
      "           2       0.60      0.57      0.59        42\n",
      "           3       0.48      0.36      0.41        42\n",
      "           4       0.40      0.50      0.45        42\n",
      "           5       0.27      0.71      0.39        42\n",
      "           6       0.41      0.31      0.35        42\n",
      "           7       0.78      0.60      0.68        42\n",
      "           8       0.48      0.26      0.34        42\n",
      "           9       0.59      0.38      0.46        42\n",
      "          10       0.33      0.31      0.32        42\n",
      "\n",
      "    accuracy                           0.46       462\n",
      "   macro avg       0.51      0.46      0.46       462\n",
      "weighted avg       0.51      0.46      0.46       462\n",
      "\n"
     ]
    }
   ],
   "source": [
    "# print best parameter after tuning \n",
    "print(grid.best_params_) \n",
    "grid_predictions = np.argmax(grid.predict(X_test.T) , axis=0).reshape((-1, 1))\n",
    "# print classification report \n",
    "print(classification_report(np.argmax(T_test, axis=0), grid_predictions)) "
   ]
  },
  {
   "cell_type": "code",
   "execution_count": 89,
   "id": "35e23bf1",
   "metadata": {},
   "outputs": [
    {
     "name": "stdout",
     "output_type": "stream",
     "text": [
      "(462, 1) (11, 462)\n"
     ]
    }
   ],
   "source": [
    "print(grid_predictions.shape, T_test.shape)"
   ]
  },
  {
   "cell_type": "markdown",
   "id": "d618169b",
   "metadata": {},
   "source": [
    "## Using kernels\n",
    "\n",
    "### **Training ELM by using linear kernel**\n",
    "\n",
    "We set the regularization hyperparameter alpha, and construct the kernel matrix for training and test data accordingly. In particular, the solution of the kernel method for a pair of $(\\mathbf{y}_j,\\mathbf{t}_j)$ can be written as \n",
    "\\begin{align}\n",
    "    \\hat{\\mathbf{t}}_j = \\mathbf{T} (K + \\alpha \\mathbf{I})^{-1} k(\\mathbf{y}_j),\n",
    "\\end{align}\n",
    "where $\\mathbf{K} \\in \\mathbb{R}^{J \\times J}$ is the kernel matrix with elements $k_{ij}=\\mathbf{k}(\\mathbf{y}_i)^{'}\\mathbf{k}(\\mathbf{y}_j)$ for a given kernel $\\mathbf{k}(\\cdot)$. Note that $k(\\mathbf{y}_j) \\in \\mathbb{R}^{J}$  is the product of sample $\\mathbf{y}_j$ and training set with elements $k_{j}=\\mathbf{k}(\\mathbf{y}_i)^{'}\\mathbf{k}(\\mathbf{y}_j), \\forall i = 1, \\cdots, J$. In matrix form, we can write\n",
    "\\begin{align}\n",
    "    \\hat{\\mathbf{T}}_{\\text{test}} = \\mathbf{T} (K + \\alpha \\mathbf{I})^{-1} K_{\\text{test}},\n",
    "\\end{align}\n",
    "where $K_{\\text{test}} \\in \\mathbb{R}^{J \\times J_{\\text{test}}}$ is the kernel matrix between train and test samples for a given kernel $\\mathbf{k}(\\cdot)$. Now we apply a linear kernel $\\mathbf{k}(\\cdot)$ on the feature vectors of ELM in $\\mathbf{Y}$ to predict the target."
   ]
  },
  {
   "cell_type": "code",
   "execution_count": 90,
   "id": "92167884",
   "metadata": {
    "hideCode": false,
    "hideOutput": false
   },
   "outputs": [],
   "source": [
    "class ELM_with_kernel(object):\n",
    "    \n",
    "    def __init__(self, n, alpha, P, kernel_type=\"linear\"):\n",
    "        self.n = n\n",
    "        self.alpha = alpha\n",
    "        self.Ri = self.initialise_random_matrix(M=n, N=P)\n",
    "        self.b = self.initialise_random_matrix(M=n, N=1)\n",
    "        self.W_ker = None\n",
    "        self.kernel_type = kernel_type\n",
    "        \n",
    "    def linear_kernel(self, X, Y):\n",
    "        return np.dot(X.T, Y)\n",
    "        \n",
    "    def rbf_kernel(self, X, Y):\n",
    "        N1 = X.shape[1]\n",
    "        N2 = Y.shape[1]\n",
    "        n1sq = np.sum(np.square(X),axis=0)\n",
    "        n2sq = np.sum(np.square(Y),axis=0)\n",
    "\n",
    "        D = np.tile(n1sq, (N2, 1)).T + np.tile(n2sq, (N1, 1)) - 2 * np.dot(X.T, Y)  # the element i,j of this matrix are nothing but the individual distance of samples x_i and y_j meaning ||x_i - y_j||_2^2\n",
    "        C = np.tile(n1sq, (N1, 1)).T + np.tile(n1sq, (N1, 1)) - 2 * np.dot(X.T, X)  # the element i,j of this matrix are nothing but the individual distance of samples x_i and x_j meaning ||x_i - x_j||_2^2\n",
    "        temp = np.sum(C)/(N1*N1)    # temp represent the average distance of samples of X from each other. Note that C is zero on the diagonal.\n",
    "\n",
    "        K = np.exp(-D/temp)     # note that in this way we don't need to tune the value of temp\n",
    "        return K\n",
    "    \n",
    "    def activation_function(self, Z):\n",
    "        return np.maximum(0, Z)\n",
    "\n",
    "    def initialise_random_matrix(self, M, N):\n",
    "        return np.random.uniform(low = -1, high = 1, size = (M,N)) \n",
    "        #return A - np.mean(A)\n",
    "        #return np.random.normal(0, 1, size=(M, N))\n",
    "    \n",
    "    def train(self, X, T):\n",
    "        \n",
    "        P = X.shape[0]\n",
    "        N = X.shape[1]\n",
    "        Zi = np.dot(self.Ri, X) + np.tile(self.b,(1,N))\n",
    "        Yi = self.activation_function(Z=Zi)\n",
    "        if self.kernel_type == \"linear\":\n",
    "            self.W_ker = np.dot(T, np.linalg.inv(self.linear_kernel(Yi,Yi) + self.alpha * np.eye(N))).astype(np.float32)\n",
    "        elif self.kernel_type == \"gaussian\":\n",
    "            self.W_ker = np.dot(T, np.linalg.inv(self.rbf_kernel(Yi,Yi) + self.alpha * np.eye(N))).astype(np.float32)\n",
    "    \n",
    "    def evaluate(self, X_train, X_test):\n",
    "        \n",
    "        N_train = X_train.shape[1]\n",
    "        N_test = X_test.shape[1]\n",
    "        \n",
    "        Zi_train = np.dot(self.Ri, X_train) + np.tile(self.b,(1,N_train))\n",
    "        Yi_train = self.activation_function(Z=Zi_train)\n",
    "        \n",
    "        Zi_test = np.dot(self.Ri, X_test) + np.tile(self.b,(1,N_test))\n",
    "        Yi_test = self.activation_function(Z=Zi_test)\n",
    "        \n",
    "        if self.kernel_type == \"linear\":\n",
    "            K_test = self.linear_kernel(Yi_train, Yi_test)\n",
    "        elif self.kernel_type == \"gaussian\":\n",
    "            K_test = self.rbf_kernel(Yi_train, Yi_test)\n",
    "        \n",
    "        T_hat = np.dot(self.W_ker, K_test)\n",
    "        return T_hat"
   ]
  },
  {
   "cell_type": "code",
   "execution_count": 91,
   "id": "118ec35d",
   "metadata": {},
   "outputs": [],
   "source": [
    "def train_ELM_with_kernel(X_train, T_train, X_val=None, T_val=None, n=2000, alpha=1e2, kernel_type=\"linear\"):\n",
    "    \n",
    "    elm_net = ELM_with_kernel(n=n, alpha=alpha, P=X_train.shape[0], kernel_type=kernel_type)\n",
    "    elm_net.train(X=X_train, T=T_train)\n",
    "    T_hat_train = elm_net.evaluate(X_train=X_train, X_test=X_train)\n",
    "    T_hat_val = elm_net.evaluate(X_train=X_train, X_test=X_val)\n",
    "    acc_train = calculate_accuracy(T_hat_train, T_train)\n",
    "    acc_val = calculate_accuracy(T_hat_val, T_val)\n",
    "    \n",
    "    return acc_train, acc_val, elm_net"
   ]
  },
  {
   "cell_type": "code",
   "execution_count": 92,
   "id": "83663007",
   "metadata": {},
   "outputs": [
    {
     "data": {
      "text/plain": [
       "{'P': 10, 'lam': 0.01, 'n': 1505}"
      ]
     },
     "execution_count": 92,
     "metadata": {},
     "output_type": "execute_result"
    }
   ],
   "source": [
    "grid.best_params_"
   ]
  },
  {
   "cell_type": "code",
   "execution_count": 93,
   "id": "e373836e",
   "metadata": {},
   "outputs": [
    {
     "name": "stdout",
     "output_type": "stream",
     "text": [
      "Optimized Lambda: 0.01, Acc_train: 1.0, Acc_val: 0.9905660377358491, Acc_test: 0.47619047619047616\n"
     ]
    }
   ],
   "source": [
    "acc_train_linear_kernel_star, acc_val_linear_kernel_star, elm_net_linear_kernel_star = train_ELM_with_kernel(X_train, T_train, X_val, T_val, \n",
    "                                                                                           n=grid.best_params_['n'], \n",
    "                                                                                           alpha=grid.best_params_['lam'],\n",
    "                                                                                           kernel_type=\"linear\")\n",
    "\n",
    "T_hat_test_linear_kernel = elm_net_linear_kernel_star.evaluate(X_train=X_train, X_test=X_test)\n",
    "acc_test_linear_kernel_star = calculate_accuracy(T_hat_test_linear_kernel, T_test)\n",
    "print(\"Optimized Lambda: {}, Acc_train: {}, Acc_val: {}, Acc_test: {}\".format(grid.best_params_['lam'], \n",
    "                                                                              acc_train_linear_kernel_star, \n",
    "                                                                              acc_val_linear_kernel_star, \n",
    "                                                                              acc_test_linear_kernel_star))"
   ]
  },
  {
   "cell_type": "markdown",
   "id": "26407b3e",
   "metadata": {},
   "source": [
    "### Training with Gaussian kernels"
   ]
  },
  {
   "cell_type": "code",
   "execution_count": 95,
   "id": "b124dcff",
   "metadata": {},
   "outputs": [
    {
     "name": "stdout",
     "output_type": "stream",
     "text": [
      "Optimized Lambda: 1000.0, Acc_train: 1.0, Acc_val: 0.9622641509433962, Acc_test: 0.5411255411255411\n"
     ]
    }
   ],
   "source": [
    "acc_train_gaussian_kernel_star, acc_val_gaussian_kernel_star, elm_net_gaussian_kernel_star = train_ELM_with_kernel(X_train, T_train, X_val, T_val, \n",
    "                                                                                           n=grid.best_params_['n'], \n",
    "                                                                                           alpha=grid.best_params_['lam'],\n",
    "                                                                                           kernel_type=\"gaussian\")\n",
    "\n",
    "T_hat_test_gaussian_kernel = elm_net_gaussian_kernel_star.evaluate(X_train=X_train, X_test=X_test)\n",
    "acc_test_gaussian_kernel_star = calculate_accuracy(T_hat_test_gaussian_kernel, T_test)\n",
    "print(\"Optimized Lambda: {}, Acc_train: {}, Acc_val: {}, Acc_test: {}\".format(1e3, \n",
    "                                                                              acc_train_gaussian_kernel_star, \n",
    "                                                                              acc_val_gaussian_kernel_star, \n",
    "                                                                              acc_test_gaussian_kernel_star))"
   ]
  },
  {
   "cell_type": "code",
   "execution_count": null,
   "id": "b63b6ba4",
   "metadata": {},
   "outputs": [],
   "source": []
  }
 ],
 "metadata": {
  "kernelspec": {
   "display_name": "Python 3 (ipykernel)",
   "language": "python",
   "name": "python3"
  },
  "language_info": {
   "codemirror_mode": {
    "name": "ipython",
    "version": 3
   },
   "file_extension": ".py",
   "mimetype": "text/x-python",
   "name": "python",
   "nbconvert_exporter": "python",
   "pygments_lexer": "ipython3",
   "version": "3.8.12"
  }
 },
 "nbformat": 4,
 "nbformat_minor": 5
}
