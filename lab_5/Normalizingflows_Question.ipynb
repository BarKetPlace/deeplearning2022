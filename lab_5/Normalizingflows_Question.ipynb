{
 "cells": [
  {
   "cell_type": "markdown",
   "metadata": {
    "id": "UilqoTiVMOeM"
   },
   "source": [
    "\n",
    "# Normalizing flows\n",
    "\n",
    "## Real non-volume preserving flows (RealNVP)\n",
    "\n",
    "## Objective\n",
    "\n",
    "The objective is to implement a particular kind of flow model (we use RealNVP flow) in this example and observe its inferencing and generating capability. In this notebook, we map a simple 2-dimensional 'toy' distribution from **sklearn.datasets** to a 2-dimensional Gaussian distribution. \n",
    "\n",
    "## Normalizing flows\n",
    "\n",
    "A normalizing flow is a DNN-based model and defined by a bijective mapping $f:\\mathcal{X} \\to \\mathcal{Z}$ where $\\mathcal{X}, \\mathcal{Z} \\in \\mathbb{R}^{D}$ and denote the data space and latent space respectively. As a result of bijectivity, there also exists an inverse mapping $g:\\mathcal{Z} \\to \\mathcal{X}$, i.e. $g = f^{-1}$. For a data point $\\mathbf{x} \\in \\mathcal{X}$, the value of $p\\left(\\mathbf{x}\\right)$ can be computed exactly  using the **change of variable** formula:\n",
    "\n",
    "$\\begin{equation}\n",
    "\\begin{aligned}\n",
    "\\log p\\left(\\mathbf{x}\\right) &= \\log p\\left(\\mathbf{z}\\right) + \\log \\Bigg\\vert\\text{det}\\left(\\frac{\\partial\\mathbf{z}}{\\partial\\mathbf{x}} \\right) \\Bigg\\vert \\\\\n",
    "&= \\log p\\left(f\\left(\\mathbf{x}\\right)\\right) + \\log \\Bigg\\vert\\text{det}\\left(\\frac{\\partial f\\left(\\mathbf{x}\\right)}{\\partial\\mathbf{x}} \\right)\\Bigg\\vert. \\\\\n",
    "\\end{aligned}\n",
    "\\label{eqn:chgofvar}\n",
    "\\end{equation}$\n",
    "\n",
    "## The RealNVP model\n",
    "\n",
    "We define a class for a RealNVP model. Basically this consists of defining the *affine coupling layer* of the RealNVP model, the *normalizing* function and the *generating* function. \n",
    "\n",
    "- The function that maps the input from the data space $\\mathcal{X}$ to the latent space $\\mathcal{Z}$ is usually referred to as the normalizing function. This is represented by $f\\left(\\mathbf{x}\\right)$, s.t. $f : \\mathcal{X} \\to \\mathcal{Z}$. The inverse function is called the generating function which maps the points from latent space $\\mathcal{Z}$ back to the data space $\\mathcal{X}$. This is represented by $g\\left(\\mathbf{z}\\right)$ s.t. $g : \\mathcal{Z} \\to \\mathcal{X}$.\n",
    "\n",
    "- Also, defining this model requires to define *masks* for each affine coupling layer that would enable alternate switching or mixing of values. The implementation is based on the masked implementation in the original paper [1]\n",
    "\n",
    "## Implementation of the Generating  and Normalizing functions for RealNVP\n",
    "\n",
    "Every input feature is split into two parts $\\mathbf{x} = \\left[\\mathbf{x}_1 \\hspace{0.1 in} \\mathbf{x}_2\\right]^{T}$, with $\\mathbf{x}_{1} \\in \\mathrm{R}^{d}$, $\\mathbf{x}_{2} \\in \\mathrm{R}^{D - d}$. \n",
    "\n",
    "**Generating function** $(\\mathbf{g} : \\mathcal{Z} \\to \\mathcal{X})$ (latent space to data space) is defined as:\n",
    "\n",
    "  $\\mathbf{x}_{1} = \\mathbf{z}_{1}$ \n",
    "\n",
    "  $\\mathbf{x}_{2} = \\mathbf{z}_{2} \\odot \\exp\\left(\\mathbf{s} \\left(\\mathbf{z}_{1}\\right) \\right) + \\mathbf{t} \\left(\\mathbf{z}_{1} \\right)$\n",
    "\n",
    "Such a combination of the two transformations as defined above for $\\mathbf{x}_{1}, \\mathbf{x}_{2}$ is referred to as a **coupling layer**\n",
    "\n",
    "**Normalizing function** $(\\mathbf{f} : \\mathcal{X} \\to \\mathcal{Z})$ (from data space to latent space, which is used in Jacobian computation during training) is defined as:\n",
    "\n",
    "$\\mathbf{z}_{1} = \\mathbf{x}_{1}$\n",
    "\n",
    "$\\mathbf{z}_{2} = \\left(\\mathbf{x}_{2} - \\mathbf{t} \\left(\\mathbf{x}_{1} \\right) \\right) \\odot \\exp\\left(- \\mathbf{s} \\left(\\mathbf{x}_{1} \\right) \\right)$\n",
    "\n",
    "(where $\\mathrm{X, Z} \\in \\mathbb{R}^{D}$, $\\mathbf{x}_{1} \\in \\mathbb{R}^{d}$, $\\mathbf{x}_{2} \\in \\mathbb{R}^{D - d}$, $\\mathbf{s}: \\mathbb{R}^{d} \\to \\mathbb{R}^{D-d}$, $\\mathbf{t}: \\mathbb{R}^{d} \\to \\mathbb{R}^{D-d}$, with $\\mathbf{s}, \\mathbf{t}$ being Shallow feed-forward Neural Nets that differ only in the last layer, which is a $\\texttt{tanh}$ for $\\mathbf{s}$ and $\\texttt{identity}$ for $\\mathbf{t}$ [1]).\n",
    "\n",
    "**Using masks for implementing coupling layers:**\n",
    "Both the transforms for $\\mathbf{x}_{1}, \\mathbf{x}_{2}$, can be combined into a single transformation that can be implemented using *masks* on the input. If we consider a binary mask like $\\mathbf{b}$ that is say 1 for the first half of the input vector (i.e. of dimension $\\mathrm{R}^{d}$) and zero for the other half dimension, then the complete transformation for $\\mathbf{x}$ can be implemented as in [1]:\n",
    "\n",
    "$\\mathbf{x} = \\mathbf{b} \\odot \\mathbf{z} + (1 - \\mathbf{b}) \\odot \\left(\\mathbf{x} \\odot \\exp \\left( \\mathbf{s} \\left( \\mathbf{b} \\odot \\mathbf{z} \\right) \\right) + \\mathbf{t} \\left( \\mathbf{b} \\odot \\mathbf{z} \\right) \\right)$\n",
    "\n",
    "\n",
    "**Computing the Jacobian determinant:**\n",
    "\n",
    "This requires computing the determinant of the matrix $J = \\frac{\\partial \\mathbf{z}}{\\partial \\mathbf{x}^{T}} = \\begin{bmatrix} \\mathrm{I}_{d} & \\mathbf{0} \\\\ \\frac{\\partial \\mathbf{z}_{d+1:D}}{\\partial \\mathbf{x}_{1:d}^{T}} & diag(\\exp\\left(-\\mathbf{s}(\\mathbf{x}_{1:d})\\right)) \\end{bmatrix}$ (Try to check this yourself using the above equations for the *normalizing* function)\n",
    "\n",
    "\n",
    "# Tasks\n",
    "\n",
    "The implementation consists of the following steps:\n",
    "\n",
    "- Importing and loading the dataset\n",
    "- Implementation of the Normalizing flow model\n",
    "- Building the training loop for the `make_moons` dataset\n",
    "- Exploring the inferencing and generating capabilities of the model for the `make_moons` dataset\n",
    "\n",
    "Coding exercises are provided in the cells, where it can be required to fill in the blank portions or correct errors in the code. Specific instructions are provided in code cells or comments above the exercises. \n",
    "\n",
    "# Additional tasks\n",
    "\n",
    "- Try to see if you can also train the model for inferencing and generating samples for the 'circles' dataset. You can make a copy of this notebook and train the model again or do it in the same notebook after noting down your results. *NOTE:* You need to play around with the parameters to get the best settings for the circles dataset.\n",
    "\n",
    "## References\n",
    "\n",
    "1. Dinh, Laurent, Jascha Sohl-Dickstein, and Samy Bengio. \"Density estimation using real nvp.\" arXiv preprint arXiv:1605.08803 (2016). [click here](https://arxiv.org/pdf/1605.08803)\n",
    "\n",
    "2. Kobyzev, Ivan, Simon Prince, and Marcus Brubaker. \"Normalizing flows: An introduction and review of current methods.\" IEEE Transactions on Pattern Analysis and Machine Intelligence (2020). [click here](https://ieeexplore.ieee.org/iel7/34/4359286/09089305.pdf?casa_token=wKeavLxNFx8AAAAA:Xy0NDcyrqCTkG8xB4-0CfjCTaCfBrCe145fki2RyrInP4CZw79kZh53BfADPO1PageiNzUr4)\n",
    "\n",
    "*NOTE:* This tutorial was adapted from:  https://github.com/senya-ashukha/real-nvp-pytorch\n"
   ]
  },
  {
   "cell_type": "markdown",
   "metadata": {
    "id": "1MHECPXUra2d"
   },
   "source": [
    "### Connecting to GPU:\n",
    "\n",
    "- This notebook uitilizes the computational power of GPUs for faster execution. In case your computers have GPU support or access to GPU servers, you do not need to execute this notebook on Google Colab.\n",
    "\n",
    "Otherwise, if you choose to use Google Colab the following steps follow:\n",
    "\n",
    "- In order to facilitate the use of GPUs in Google Colab (owing to large no. of parameters in the models), firstly you can connect to the GPU by going to *Edit* ---> *Notebook settings* ---> Select *Hardware accelerator* as *GPU*. The notebook will reconnect once and will now be connected to the GPU given by Google Colab. If the setting is not changed, then the codes will be executed using CPU.\n",
    "\n",
    "  You can check the GPU status by executing the command in the following cell to check available GPU memory and stats.\n",
    "\n",
    "  ```\n",
    "  !/opt/bin/nvidia-smi # '!' is used to access command line\n",
    "  ```\n"
   ]
  },
  {
   "cell_type": "code",
   "execution_count": null,
   "metadata": {
    "id": "WR9evf7CQZTD"
   },
   "outputs": [],
   "source": [
    "!/opt/bin/nvidia-smi # '!' is used to access command line"
   ]
  },
  {
   "cell_type": "markdown",
   "metadata": {
    "id": "-vvbaU80rFxY"
   },
   "source": [
    "Import the necessary libraries\n"
   ]
  },
  {
   "cell_type": "code",
   "execution_count": null,
   "metadata": {
    "id": "uTCGZ6AXR4Un"
   },
   "outputs": [],
   "source": [
    "import numpy as np\n",
    "import sys\n",
    "import matplotlib.pyplot as plt\n",
    "%matplotlib inline\n",
    "from pylab import rcParams\n",
    "import torch\n",
    "from torch import nn\n",
    "from torch.autograd import Variable\n",
    "from torch import distributions\n",
    "from torch.nn.parameter import Parameter\n",
    "import matplotlib\n",
    "import matplotlib.animation as animation\n",
    "from matplotlib.animation import FuncAnimation\n",
    "import IPython\n",
    "from IPython.display import HTML\n",
    "import sklearn\n",
    "from sklearn import cluster, datasets, mixture\n",
    "from sklearn.preprocessing import StandardScaler\n",
    "import copy"
   ]
  },
  {
   "cell_type": "code",
   "execution_count": null,
   "metadata": {
    "colab": {
     "base_uri": "https://localhost:8080/"
    },
    "id": "fVh_XjG3yspi",
    "outputId": "773b71ea-590f-4d31-d0b2-58eec1846222"
   },
   "outputs": [
    {
     "name": "stdout",
     "output_type": "stream",
     "text": [
      "pytorch==1.10.0+cu111\n",
      "scikit-learn==1.0.2\n",
      "numpy==1.21.5\n",
      "matplotlib==3.2.2\n",
      "IPython==5.5.0\n"
     ]
    }
   ],
   "source": [
    "# Print out the version of the packages\n",
    "print(\"pytorch=={}\".format(torch.__version__))\n",
    "print(\"scikit-learn=={}\".format(sklearn.__version__))\n",
    "print(\"numpy=={}\".format(np.__version__))\n",
    "print(\"matplotlib=={}\".format(matplotlib.__version__))\n",
    "print(\"IPython=={}\".format(IPython.__version__))"
   ]
  },
  {
   "cell_type": "markdown",
   "metadata": {
    "id": "qf9AwT0XOQ5_"
   },
   "source": [
    "## Importing and loading the dataset\n"
   ]
  },
  {
   "cell_type": "markdown",
   "metadata": {
    "id": "GkrfvJyEVSUJ"
   },
   "source": [
    "We will be using two model datasets known as `make_moons()` and `make_circles()` from scikit learn (`sklearn.datasets`). These are commonly used for examining clustering and classification algorithms, and especially the `make_moons` dataset has been used in a couple of papers on Normalizing flows as an example of representation.\n",
    "\n",
    "For details regarding each of these datasets:\n",
    "\n",
    "- `make_moons()`: https://scikit-learn.org/stable/modules/generated/sklearn.datasets.make_moons.html\n",
    "\n",
    "- `make_circles()`: https://scikit-learn.org/stable/modules/generated/sklearn.datasets.make_circles.html\n",
    "\n",
    "\n",
    "Task: Complete the code for loading the datasets and obtaining the training dataloader"
   ]
  },
  {
   "cell_type": "code",
   "execution_count": null,
   "metadata": {
    "id": "tKsiCSTiaX-9"
   },
   "outputs": [],
   "source": [
    "# As a first example we will be trying to use the 'make_moons', 'make_circles' datasets \n",
    "# from sklearn\n",
    "\n",
    "n_samples = 1000 # No. of training samples\n",
    "n_test_samples = 400 # No. of testing samples\n",
    "\n",
    "# Initialising and obtaining the training dataset \n",
    "moons_training_dataset = None # ... # Load the dataset make_moons() from sklearn with number of points=n_samples, noise 0.05 \n",
    "circles_training_dataset = None # ... # Load the dataset make_circles() from sklearn with number of points=n_samples, noise 0.005\n",
    "\n",
    "# Initialising and obtaining the testing dataset\n",
    "moons_test_dataset = None # ... # Load the test dataset make_moons() from sklearn with number of points=n_test_samples, noise = 0.05\n",
    "circles_test_dataset = None # ...  # Load the test dataset make_circles() from sklearn with number of points=n_test_samples, noise = 0.005"
   ]
  },
  {
   "cell_type": "markdown",
   "metadata": {
    "id": "fqHOEXAdqUQi"
   },
   "source": [
    "Plotting some sample plots to get an idea of the images used for training"
   ]
  },
  {
   "cell_type": "code",
   "execution_count": null,
   "metadata": {
    "colab": {
     "base_uri": "https://localhost:8080/",
     "height": 513
    },
    "id": "_kRDXUZeaeuJ",
    "outputId": "372a3400-3a43-4636-cb6c-40144023c1c5"
   },
   "outputs": [
    {
     "data": {
      "image/png": "[encoded data removed]",
      "text/plain": [
       "<Figure size 432x288 with 1 Axes>"
      ]
     },
     "metadata": {
      "needs_background": "light"
     },
     "output_type": "display_data"
    },
    {
     "data": {
      "image/png": "[encoded data removed]",
      "text/plain": [
       "<Figure size 432x288 with 1 Axes>"
      ]
     },
     "metadata": {
      "needs_background": "light"
     },
     "output_type": "display_data"
    }
   ],
   "source": [
    "# Plotting the dataset 'make_moons'\n",
    "plt.figure()\n",
    "plt.scatter(moons_training_dataset[:,0], moons_training_dataset[:,1])\n",
    "plt.show()\n",
    "\n",
    "# Plotting the second dataset (which is definitely harder)\n",
    "plt.figure()\n",
    "plt.scatter(circles_training_dataset[:,0], circles_training_dataset[:,1])\n",
    "plt.show()"
   ]
  },
  {
   "cell_type": "markdown",
   "metadata": {
    "id": "QcOTjdlE5Z94"
   },
   "source": [
    "Defining a function for retrieving the dataset (including a dataloader) as per the type of dataset"
   ]
  },
  {
   "cell_type": "code",
   "execution_count": null,
   "metadata": {
    "id": "68tq4Ccl28gT"
   },
   "outputs": [],
   "source": [
    "def create_dataloader(dset_type=\"moons\", batch_size=64):\n",
    "    \"\"\" Based on the type of dataset, choose / select the moons or circles dataset\n",
    "        and return the dataloader object\n",
    "    ----\n",
    "    Args:\n",
    "\n",
    "    - dset_type: string that indicates whether the \"moons\" or \"circles\" dataset is chosen\n",
    "    - batch_size: batch size for the training data loader \n",
    "\n",
    "    Returns:\n",
    "\n",
    "    - train_loader: Data loader object for the training class\n",
    "    - train_dataset: Full training dataset\n",
    "    - test_dataset: Full test dataset\n",
    "\n",
    "    \"\"\"\n",
    "    if dset_type.lower() == \"moons\":\n",
    "        train_dataset = moons_training_dataset \n",
    "        test_dataset = moons_test_dataset\n",
    "\n",
    "    elif dset_type.lower() == \"circles\":\n",
    "        train_dataset = circles_training_dataset\n",
    "        test_dataset = circles_test_dataset\n",
    "    \n",
    "    else:\n",
    "\n",
    "        print(\"Dataset not found!\")\n",
    "        sys.exit(0)\n",
    "\n",
    "    # Training dataset loader\n",
    "    print(\"Batch_size:{}\".format(batch_size))\n",
    "    print(\"No.of samples:{}\".format(train_dataset.shape[0]))\n",
    "    train_loader = # ... # Create a dataloader for loading your training dataset\n",
    "    print(train_loader)\n",
    "\n",
    "    return train_loader, train_dataset, test_dataset\n"
   ]
  },
  {
   "cell_type": "markdown",
   "metadata": {
    "id": "JLf60DmkOkq-"
   },
   "source": [
    "Load the desired training dataset using data loaders\n"
   ]
  },
  {
   "cell_type": "code",
   "execution_count": null,
   "metadata": {
    "colab": {
     "base_uri": "https://localhost:8080/"
    },
    "id": "TBj4b2jJ4Xtp",
    "outputId": "7ccf9de2-373e-4e11-b088-ff55cf23f350"
   },
   "outputs": [
    {
     "name": "stdout",
     "output_type": "stream",
     "text": [
      "Batch_size:128\n",
      "No.of samples:1000\n",
      "<torch.utils.data.dataloader.DataLoader object at 0x7fc188321bd0>\n"
     ]
    }
   ],
   "source": [
    "# Arbitrarily defined batch size\n",
    "batch_size = 128 \n",
    "\n",
    "# Training dataset loader\n",
    "train_loader, train_dataset, test_dataset = create_dataloader(dset_type=\"moons\", batch_size=batch_size)"
   ]
  },
  {
   "cell_type": "markdown",
   "metadata": {
    "id": "ulsxJRdZOoXN"
   },
   "source": [
    "Check some basic stuff about the data\n"
   ]
  },
  {
   "cell_type": "code",
   "execution_count": null,
   "metadata": {
    "colab": {
     "base_uri": "https://localhost:8080/"
    },
    "id": "djli36zI8U9g",
    "outputId": "b3bbab3c-be4b-4727-8f03-bd8848f0f0eb"
   },
   "outputs": [
    {
     "name": "stdout",
     "output_type": "stream",
     "text": [
      "torch.Size([128, 2])\n"
     ]
    }
   ],
   "source": [
    "# Loading a new batch of data\n",
    "examples = enumerate(train_loader)\n",
    "batch_id, example_data = next(examples)\n",
    "\n",
    "# Shape of a batch of data\n",
    "print(example_data.shape)"
   ]
  },
  {
   "cell_type": "markdown",
   "metadata": {
    "id": "_SE21HXFBSj9"
   },
   "source": [
    "Select the device to run the model on: CPU / GPU"
   ]
  },
  {
   "cell_type": "code",
   "execution_count": null,
   "metadata": {
    "colab": {
     "base_uri": "https://localhost:8080/"
    },
    "id": "pZdpR5W-BQhB",
    "outputId": "0f7949fc-ca93-41a0-dfc5-807a6433807a"
   },
   "outputs": [
    {
     "name": "stdout",
     "output_type": "stream",
     "text": [
      "Device Used:cuda:0\n"
     ]
    }
   ],
   "source": [
    "ngpu = 1 # Comment this out if you want to run on cpu and the next line just set device to \"cpu\"\n",
    "device = torch.device(\"cuda:0\" if (torch.cuda.is_available() and ngpu>0) else \"cpu\")\n",
    "print(\"Device Used:{}\".format(device))"
   ]
  },
  {
   "cell_type": "markdown",
   "metadata": {
    "id": "wVaNwSbHN7k7"
   },
   "source": [
    "# Implementation of the Normalizing flow model"
   ]
  },
  {
   "cell_type": "markdown",
   "metadata": {
    "id": "rdsGGMI8Ntmo"
   },
   "source": [
    "Defining the class for weight rescaling of the scaling function in the coupling layer transformation"
   ]
  },
  {
   "cell_type": "code",
   "execution_count": null,
   "metadata": {
    "id": "P893M05BAuiv"
   },
   "outputs": [],
   "source": [
    "class WN_Rescale_s(nn.Module):\n",
    "    \"\"\"\n",
    "    This is a class used for weight normalization of the scaling function\n",
    "    in the coupling layer transformation\n",
    "    \"\"\"\n",
    "    def __init__(self, n_channels):\n",
    "        super(WN_Rescale_s, self).__init__()\n",
    "        self.weight = nn.Parameter(torch.ones(n_channels))\n",
    "\n",
    "    def forward(self, x):\n",
    "\n",
    "        scaled_x = self.weight * x\n",
    "        return scaled_x"
   ]
  },
  {
   "cell_type": "markdown",
   "metadata": {
    "id": "l2zy9F6SNrMQ"
   },
   "source": [
    "Defining the coupling layer\n",
    "\n",
    "Tasks: In this part of the notebook, you will build a feed forward network which\n",
    "is going to be the backbone behind a coupling layer. Remove parts of the code having `None` and replace with correct code using the instructions provided"
   ]
  },
  {
   "cell_type": "code",
   "execution_count": null,
   "metadata": {
    "id": "5AGDLK6DGtkt"
   },
   "outputs": [],
   "source": [
    "class CouplingLayerNet(nn.Module):\n",
    "\n",
    "    def __init__(self, config, add_batch_norm=False):\n",
    "        super(CouplingLayerNet, self).__init__()\n",
    "        \"\"\" \n",
    "        - config: It contains a dictionary of points used for initializing the shallow,\n",
    "        feed forward networks in the coupling layer\n",
    "        - add_batch_norm: This represents a flag that indicates whether batch normalization is\n",
    "        to be used or not. In this example, we use one-dimensional batch normalization  \n",
    "        \"\"\"\n",
    "        self.add_batch_norm = add_batch_norm # Batch normalization option\n",
    "\n",
    "        # Define a shallow neural network for the scale function\n",
    "        self.nets = nn.Sequential()\n",
    "\n",
    "        input_size = config[\"input_dim\"] # The dimension of the input layer\n",
    "        hidden_sizes = config[\"hidden_dims\"] # This is an array consisting of a set of hidden sizes\n",
    "        output_size = config[\"output_dim\"] # The dimension of the output layer, typically for flows this is same as the input size\n",
    "\n",
    "        # Our feed forward network should have the following sizes of nn.Linear layers\n",
    "        # Between each nn.Linear layer, we should have a LeakyReLU activation function\n",
    "        # nets = [input_size, hidden_sizes[0], hidden_sizes[1], hidden_sizes[2], ..., hidden_size[-1], output_size]\n",
    "\n",
    "        # Add batch norm layer\n",
    "        if self.add_batch_norm == True:\n",
    "            self.nets.add_module('BatchNorm_{}'.format(0+1), nn.BatchNorm1d(output_size))\n",
    "\n",
    "        # First hidden layer\n",
    "        i = 0\n",
    "        self.nets.add_module('Hidden_{}'.format(i+1), nn.Linear(input_size, hidden_sizes[0], bias=True))\n",
    "        self.nets.add_module('LeakyReLU_{}'.format(i+1), nn.LeakyReLU())\n",
    "\n",
    "        # Rest of the hidden layers\n",
    "        for i in range(1, len(hidden_sizes)):\n",
    "            self.nets.add_module('Hidden_{}'.format(i+1), None) # Complete the code here by removing None, and adding nn.Linear layer with appropriate sizes\n",
    "            self.nets.add_module('LeakyReLU_{}'.format(i+1), None) # Complete the code here by removing None, and adding a LeakyReLU activation\n",
    "\n",
    "        # Final output layer\n",
    "        self.nets.add_module('Hidden_{}'.format(len(hidden_sizes)+1), None) # Complete the code here by removing None, and adding nn.Linear layer with appropriate sizes\n",
    "        return None\n",
    "    \n",
    "    def forward(self, x):\n",
    "        \n",
    "        self.net_st = lambda: self.nets\n",
    "        out = self.net_st()(x)\n",
    "        return out\n"
   ]
  },
  {
   "cell_type": "markdown",
   "metadata": {
    "id": "_gBqFjCoiRlb"
   },
   "source": [
    "Defining the RealNVP model class\n",
    "\n",
    "Tasks: In this part of the notebook, you will build the RealNVP flow by filling in some missing parts. You will utilize the classes and functions defined earlier such as `CouplingLayerNet`. Remove parts of the code having `None` and replace with correct code using the instructions provided"
   ]
  },
  {
   "cell_type": "code",
   "execution_count": null,
   "metadata": {
    "id": "YUkv0_gVGrzv"
   },
   "outputs": [],
   "source": [
    "class RealNVP(nn.Module):\n",
    "    \n",
    "    def __init__(self, options, init_nets = True, device='cpu', lr=1e-4):  \n",
    "        \"\"\" Initialising the attributes of the class. Define a shallow neural \n",
    "        network for the scale function. You can also choose to define a single \n",
    "        network and split the outputs accordingly. Only point to remember is \n",
    "        that the last activation function is different for the scale and the \n",
    "        translation parameters.\n",
    "        ----\n",
    "        Args:\n",
    "\n",
    "        - n_I: no. of input dimensions \n",
    "        - n_H: no. of hidden dimensions\n",
    "        - n_O: no. of output dimensions\n",
    "        - n_layers: no. of coupling layers\n",
    "\n",
    "        \"\"\"      \n",
    "        super(RealNVP, self).__init__()\n",
    "\n",
    "        # Initialize parameters\n",
    "        self.device = device\n",
    "        self.lr = options[\"Train\"][\"lr\"]\n",
    "        n_I = options[\"realnvp\"][\"input_dim\"]\n",
    "        n_layers = 2*options[\"realnvp\"][\"num_layers\"]\n",
    "\n",
    "        # Initialize the RealNVP network using the CouplingLayer class and \n",
    "        # WN_Rescale_s as defined earlier\n",
    "        self.init_nets = init_nets     \n",
    "\n",
    "        # Define a group of simple \"cross\" pattern masks. The number of these masks \n",
    "        # is equal to the number of affine coupling layers\n",
    "        masks = self.get_mask(n_layers)\n",
    "        self.mask = nn.Parameter(masks, requires_grad = False)\n",
    "\n",
    "        # Define the prior for defining a standard, multivariate Gaussian distribution N(0, I)\n",
    "        self.prior = self.get_Gaussian_prior(n_I)\n",
    "        \n",
    "        # Define the translation and scale parameters for each coupling layer\n",
    "        if self.init_nets == True:\n",
    "            self.st = self.init_network(config=options[\"realnvp\"], num_coupling_layers=n_layers)\n",
    "            #print(self.st)\n",
    "        else:\n",
    "            pass   \n",
    "        \n",
    "        # Define required weight normalization function / module\n",
    "        self.wn_rescale = torch.nn.utils.weight_norm(WN_Rescale_s(int(self.mask.size(1)/2)))\n",
    "\n",
    "    def init_network(self, config, num_coupling_layers):\n",
    "        \"\"\"\n",
    "        Define the translation and scale parameters for each coupling layer\n",
    "        For every odd-indexed layer, we add batch normalization to the coupling\n",
    "        layer except for the last coupling layer\n",
    "        \"\"\"\n",
    "        return torch.nn.ModuleList([CouplingLayerNet(config=config, add_batch_norm=True) \n",
    "                                if (i < num_coupling_layers-1 and i % 2 == 0) else CouplingLayerNet(config=config, add_batch_norm=False) \n",
    "                                for i in range(num_coupling_layers)])\n",
    "        \n",
    "\n",
    "    def get_mask(self, n_layers):\n",
    "        \"\"\"\n",
    "        Define a group of simple channel masks. The number of these masks \n",
    "        is equal to the number of affine coupling layers\n",
    "        \"\"\"\n",
    "        masks = torch.from_numpy(np.array([[1, 0], [0, 1]] * int(n_layers)).astype(np.float32))\n",
    "        return masks\n",
    "\n",
    "    def get_Gaussian_prior(self, n_I):\n",
    "        \"\"\"\n",
    "        Define the prior for defining a multivariate Gaussian distribution\n",
    "        with zero mean and identity covariance matrix as a prior. Use the distributions\n",
    "        package from PyTorch. The mean vector should be of size (n_I,)\n",
    "        and covariance matrix of size (n_I, n_I)\n",
    "        \"\"\"\n",
    "        return None # Remove the 'None' and create a distributions object for Multivariate Gaussian\n",
    "        \n",
    "    def _chunk(self, x, mask):\n",
    "        \"\"\"\n",
    "        This function is used for splitting the input into two parts depending \n",
    "        on the value of the binary 'mask'\n",
    "        \"\"\"\n",
    "        idx_id = torch.nonzero(mask).reshape(-1)\n",
    "        idx_scale = (mask == 0).nonzero().reshape(-1)\n",
    "        chunk_id = torch.index_select(x, dim=1,\n",
    "                                      index=idx_id)\n",
    "        chunk_scale = torch.index_select(x, dim=1,\n",
    "                                         index=idx_scale)\n",
    "        return (chunk_id, chunk_scale)\n",
    "\n",
    "    def f(self, x):\n",
    "        \"\"\" This function is used for implementing the inference function \n",
    "        f:X --> Z. \n",
    "        \"\"\"\n",
    "        log_det_J = torch.zeros(x.shape[0]).to(self.device)\n",
    "        z = x\n",
    "        for i in reversed(range(len(self.st))):\n",
    "            z_ = z * self.mask[i]\n",
    "            st = self.st[i](z_)\n",
    "            s, t = st.chunk(2,dim=1)\n",
    "            s = self.wn_rescale(torch.tanh(s))\n",
    "            s = s * (1 - self.mask[i])\n",
    "            t = t * (1 - self.mask[i])\n",
    "            s = s.mul(-1)\n",
    "            exp_s = s.exp()\n",
    "            z = z_ + (1 - self.mask[i]) * (z - t) * exp_s\n",
    "            log_det_J += torch.sum(s, dim=1)\n",
    "\n",
    "        return z, log_det_J\n",
    "\n",
    "    def g(self, z):\n",
    "        \"\"\" This function is used for implementing the generator function \n",
    "        f:X --> Z. \n",
    "        \"\"\"\n",
    "        x = copy.deepcopy(z)\n",
    "        for i in range(len(self.st)):\n",
    "            x_ = self.mask[i] * x\n",
    "            st = self.st[i](x_)\n",
    "            s, t = st.chunk(2,dim=1)\n",
    "            s = self.wn_rescale(torch.tanh(s))\n",
    "            s = s * (1 - self.mask[i])\n",
    "            t = t * (1 - self.mask[i])\n",
    "            exp_s = s.exp()\n",
    "            x = x_ + (1 - self.mask[i]) * (x * exp_s + t)\n",
    "\n",
    "        return x\n",
    "\n",
    "    def log_prob(self, x):\n",
    "        \"\"\" Computing the log-likelihood p(x) from p(z) using the change of variable\n",
    "        formula (inference step)\n",
    "        \"\"\"\n",
    "        z, logdet = self.f(x)\n",
    "        pz = self.prior.log_prob(z.cpu()).to(self.device)\n",
    "        return None # Remove the 'None', and use the change of variable formula defined in the description here to get p(x) using pz and logdet\n",
    "    \n",
    "    def sample(self, batchSize):\n",
    "        \"\"\" Generate samples drawn from the given batch of data from the latent\n",
    "        space Z (generate samples)\n",
    "        \"\"\"\n",
    "        z = self.prior.sample((batchSize,))\n",
    "        logpx = self.prior.log_prob(z)\n",
    "        print(z.shape)\n",
    "        x = None # Remove the 'None', Get a sample using the generator function g() and the input z. Note both data and model need to be on the same device to work\n",
    "        return x\n"
   ]
  },
  {
   "cell_type": "markdown",
   "metadata": {
    "id": "tunXKz_mcQUE"
   },
   "source": [
    "Define some variables for initaliazing the parameters of the network and an object of the RealNVP flow class\n"
   ]
  },
  {
   "cell_type": "code",
   "execution_count": null,
   "metadata": {
    "id": "2Rysu4ACtRks"
   },
   "outputs": [],
   "source": [
    "# Set the options for initializing normalizing flows\n",
    "options = {\n",
    "    \"Train\":{ # This dictionary represents the training-related parameters\n",
    "        \"lr\":1e-4,\n",
    "        \"num_epochs\":1000\n",
    "    },\n",
    "    \n",
    "    \"realnvp\":{ # This dictionary represents the realnvp-related parameters\n",
    "        \"in_channels\":1,\n",
    "        \"input_dim\":2,\n",
    "        \"hidden_dims\":[64, 64],\n",
    "        \"output_dim\":2,\n",
    "        \"num_layers\":4\n",
    "    }\n",
    "}"
   ]
  },
  {
   "cell_type": "markdown",
   "metadata": {},
   "source": [
    "Creating an instance of the model"
   ]
  },
  {
   "cell_type": "code",
   "execution_count": null,
   "metadata": {
    "id": "oZ9kVSfvcONi"
   },
   "outputs": [],
   "source": [
    "flow = RealNVP(options, init_nets=True, device=device).to(device)"
   ]
  },
  {
   "cell_type": "markdown",
   "metadata": {
    "id": "OSY30LewcqV3"
   },
   "source": [
    "Function to count the number of paramters in the model\n"
   ]
  },
  {
   "cell_type": "code",
   "execution_count": null,
   "metadata": {
    "id": "iS9yox2vNttZ"
   },
   "outputs": [],
   "source": [
    "# Optional: You can print the variable 'flow' to check your constructed network\n",
    "print(flow)"
   ]
  },
  {
   "cell_type": "code",
   "execution_count": null,
   "metadata": {
    "id": "HjqzLy15-2SG"
   },
   "outputs": [],
   "source": [
    "def count_params(model):\n",
    "    \"\"\"\n",
    "    Counts two types of parameters:\n",
    "\n",
    "    - Total no. of parameters in the model (including trainable parameters)\n",
    "    - Number of trainable parameters (i.e. parameters whose gradients will be computed)\n",
    "\n",
    "    \"\"\"\n",
    "    total_num_params = sum(p.numel() for p in model.parameters())\n",
    "    total_num_trainable_params = sum(p.numel() for p in model.parameters() if p.requires_grad == True)\n",
    "    return total_num_params, total_num_trainable_params\n",
    "\n",
    "# Count the number of parameters in the created model\n",
    "total_num_params, total_num_trainable_params = count_params(flow) \n",
    "\n",
    "# Check the number of trainable parameters\n",
    "print(\"The total number of trainable parameters: {}\".format(total_num_trainable_params)) \n",
    "\n",
    "# Check the number of total parameters\n",
    "print(\"The total number of parameters (including trainable + non-trainable): {}\".format(total_num_params)) "
   ]
  },
  {
   "cell_type": "markdown",
   "metadata": {
    "id": "O_NUqH-McV38"
   },
   "source": [
    "## Building the training loop"
   ]
  },
  {
   "cell_type": "markdown",
   "metadata": {
    "id": "F3xEKwCpclnN"
   },
   "source": [
    "Define the optimizer for the training\n",
    "\n",
    "In our case, we use `torch.optim.Adam`\n"
   ]
  },
  {
   "cell_type": "code",
   "execution_count": null,
   "metadata": {
    "id": "b-RdLSFscVWn"
   },
   "outputs": [],
   "source": [
    "optimizer = torch.optim.Adam([p for p in flow.parameters() if p.requires_grad==True], \n",
    "                             lr=options[\"Train\"][\"lr\"])"
   ]
  },
  {
   "cell_type": "markdown",
   "metadata": {
    "id": "y3xmIUIdc6GX"
   },
   "source": [
    "Training process begins here...\n",
    "\n",
    "Task: Complete parts of the training loop using the instructions provided\n"
   ]
  },
  {
   "cell_type": "code",
   "execution_count": null,
   "metadata": {
    "id": "FRR0Pewdczwf"
   },
   "outputs": [],
   "source": [
    "# Time_points to take snapshot of images\n",
    "# Choose time instants like these accordingly \n",
    "n_checkpts = 100 # Number of checkpoints\n",
    "snap_instants = list(1 + np.linspace(0, options[\"Train\"][\"num_epochs\"], n_checkpts).astype(np.int16)) \n",
    "\n",
    "# Training Process begins here\n",
    "losses = [] # To store the losses\n",
    "z_list = [] # To store the intermediate outputs during training\n",
    "\n",
    "flow.train(True)\n",
    "for epoch in range(options[\"Train\"][\"num_epochs\"]):    \n",
    "    \n",
    "    total_loss = 0 # Total los at the end of each epoch is reset\n",
    "    for i, data in enumerate(train_loader, 0):\n",
    "        \n",
    "        # Setting all initial gradients to zero\n",
    "        # ... Insert code here \n",
    "        \n",
    "        X = data.to(device) # Input data\n",
    "\n",
    "        # Computing the Mean of the negative log-likhelihood loss, which is to be minimized \n",
    "        # Hint: You can get the positive log-likelihood loss directly using one of the member functions of RealNVP class\n",
    "        # (NOTE: this corresponds to maximizing mean log-likelihood)\n",
    "        \n",
    "        loss = None # Replace None and insert code here\n",
    "\n",
    "        total_loss += loss # For display purpose\n",
    "        \n",
    "        # Computing the gradients of the flow\n",
    "        # ... Insert code here \n",
    "      \n",
    "        # Update the parameters of the flow \n",
    "        # ... Insert code here\n",
    "    \n",
    "        losses.append(loss.item())\n",
    "        \n",
    "    # Display training progress as training goes on\n",
    "    if (epoch + 1) % 50 == 0 or epoch == 0:\n",
    "        print(\"Epoch:{}/{}, Batch_no.: {}, NLL loss = {:.3f}\".format(epoch+1, \n",
    "                                                                     options[\"Train\"][\"num_epochs\"], \n",
    "                                                                     i+1, \n",
    "                                                                     total_loss))\n",
    "    \n",
    "    # Display \n",
    "    if epoch + 1 in snap_instants:\n",
    "        with torch.no_grad():\n",
    "            # Convert this tensor to cpu() first and then convert to numpy\n",
    "            # (in case GPU is not used then use z_intermediate = flow.f(X)[0].numpy())\n",
    "            z_intermediate = flow.f(X)[0].cpu().numpy()\n",
    "            z_list.append(z_intermediate)\n",
    "\n"
   ]
  },
  {
   "cell_type": "markdown",
   "metadata": {
    "id": "jnzxkPneNY3M"
   },
   "source": [
    "Plotting the losses versus number of training iterations"
   ]
  },
  {
   "cell_type": "code",
   "execution_count": null,
   "metadata": {
    "id": "QxpuMQFPNYDR"
   },
   "outputs": [],
   "source": [
    "# Plot a figure for losses\n",
    "rcParams['figure.figsize'] = 10, 8\n",
    "plt.figure()         \n",
    "plt.plot(losses)\n",
    "plt.xlabel(\"No. of training checkpoints\")\n",
    "plt.ylabel(\"NLL loss\")\n",
    "plt.title(\"Plot of training NLL loss v/s No. of training checkpoints\")\n",
    "plt.show()"
   ]
  },
  {
   "cell_type": "markdown",
   "metadata": {
    "id": "U8SgNtM5dF3o"
   },
   "source": [
    "Display a progression of images as an animation"
   ]
  },
  {
   "cell_type": "code",
   "execution_count": null,
   "metadata": {
    "id": "7xAHB1LsvpWZ"
   },
   "outputs": [],
   "source": [
    "#%%capture\n",
    "fig = plt.figure()\n",
    "plt.xlim(-4, 4)\n",
    "plt.ylim(-4, 4)\n",
    "plt.axis(\"off\")\n",
    "ims = [[plt.scatter(z_intermediate[:,0], z_intermediate[:,1], c='b', animated=True)] for z_intermediate in z_list]"
   ]
  },
  {
   "cell_type": "code",
   "execution_count": null,
   "metadata": {
    "id": "Mz9o2Rpd80Ic"
   },
   "outputs": [],
   "source": [
    "ani = animation.ArtistAnimation(fig, ims, interval=1000, repeat_delay=500, blit=True)\n",
    "HTML(ani.to_jshtml())"
   ]
  },
  {
   "cell_type": "markdown",
   "metadata": {
    "id": "ed6xvJCPdMlg"
   },
   "source": [
    "## Examining the inference and generating function"
   ]
  },
  {
   "cell_type": "code",
   "execution_count": null,
   "metadata": {
    "colab": {
     "base_uri": "https://localhost:8080/",
     "height": 650
    },
    "id": "TCS0mJiqdNLy",
    "outputId": "168f5267-db8d-43ee-92aa-e84a3d4a38bc"
   },
   "outputs": [
    {
     "name": "stdout",
     "output_type": "stream",
     "text": [
      "torch.Size([400, 2])\n"
     ]
    },
    {
     "data": {
      "text/plain": [
       "Text(0.5, 1.0, 'X = g(z)')"
      ]
     },
     "execution_count": 100,
     "metadata": {},
     "output_type": "execute_result"
    },
    {
     "data": {
      "image/png": "[encoded data removed]",
      "text/plain": [
       "<Figure size 720x720 with 4 Axes>"
      ]
     },
     "metadata": {
      "needs_background": "light"
     },
     "output_type": "display_data"
    }
   ],
   "source": [
    "flow.train(False)\n",
    "rcParams['figure.figsize'] = 10, 10\n",
    "plt.rcParams.update({'font.size': 14})\n",
    "z1 = flow.f(torch.from_numpy(test_dataset).to(device))[0].detach().cpu().numpy()\n",
    "plt.subplot(221)\n",
    "plt.scatter(z1[:,0], z1[:,1])\n",
    "plt.title(' z = f(X) (Inference)')\n",
    "\n",
    "z2 = np.random.multivariate_normal(np.zeros((2)), np.eye(2), n_test_samples)\n",
    "plt.subplot(222)\n",
    "plt.scatter(z2[:,0], z2[:,1])\n",
    "plt.title(' z ~ p(Z) (Actual)')\n",
    "\n",
    "plt.subplot(223)\n",
    "x1 = test_dataset\n",
    "plt.ylim(-2, 2)\n",
    "plt.scatter(x1[:, 0], x1[:, 1], c='r')\n",
    "plt.title('X ~ p(X)')\n",
    "\n",
    "plt.subplot(224)\n",
    "x2 = flow.sample(n_test_samples).detach().cpu().numpy()\n",
    "plt.ylim(-2, 2)\n",
    "plt.scatter(x2[:, 0], x2[:, 1], c='r')\n",
    "plt.title('X = g(z)')"
   ]
  },
  {
   "cell_type": "code",
   "execution_count": null,
   "metadata": {
    "id": "tS3-F5AyEOCs"
   },
   "outputs": [],
   "source": []
  }
 ],
 "metadata": {
  "colab": {
   "collapsed_sections": [],
   "name": "Normalizingflows_Question_v3.ipynb",
   "provenance": []
  },
  "kernelspec": {
   "display_name": "Python 3 (ipykernel)",
   "language": "python",
   "name": "python3"
  },
  "language_info": {
   "codemirror_mode": {
    "name": "ipython",
    "version": 3
   },
   "file_extension": ".py",
   "mimetype": "text/x-python",
   "name": "python",
   "nbconvert_exporter": "python",
   "pygments_lexer": "ipython3",
   "version": "3.8.12"
  }
 },
 "nbformat": 4,
 "nbformat_minor": 1
}
