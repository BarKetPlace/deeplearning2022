{
 "cells": [
  {
   "cell_type": "markdown",
   "metadata": {
    "id": "TN5hv2I2WOOc"
   },
   "source": [
    "## Tutorial - Time Series Prediction with Recurrent nets\n",
    "\n",
    "## Objective\n",
    "\n",
    "**Time series analysis with recurrent nets**: \n",
    "\n",
    "The goal would be to learn how different recurrent neural networks can be used for predicting future values in a time series based on knowledge from the past values. Also, to check how different recurrent models of varying complexity perform with respect to the prediction task. \n",
    "\n",
    "In this notebook, a dataset known as 'dynamo_esn' is used, which is a simulated version of the number of sunspots on the Sun's surface recorded over time.\n",
    "\n",
    "## Exercises\n",
    "\n",
    "- Complete a part of the code for fitting an Echo state network (ESN) on the data. The ESN can be considered as a baseline reference for the neural network models.\n",
    "- Complete the code to train a particular recurrent neural network (LSTM/GRU) on time series data.\n",
    "- Try to run the code for training another one of three models (such as LSTM) for comparing predictions for a given cycle.\n",
    "\n",
    "### Additionally:\n",
    "- Try to tune the model hyperparameters for LSTM to see if a better result can be obtained for the given model prediction. Insert some new code after this part, by reusing the existing code and experiment with the \n",
    "model `options` such `n_layers` or `n_hidden`, etc.\n",
    "\n",
    "- *(Optional)* **Checking the variance of the predictions**: Try to simulate the GRU model training many times (set the verbosity flag to False), and plot a figure that shows how the mean prediction across the number of simulations and the standard deviation of the predictions. Compare it with the actual test prediction.\n",
    "\n",
    "##  References\n",
    "\n",
    "- PyTorch Recurrent layers (from `torch.nn.Module`):\n",
    "    - [nn.LSTM](https://pytorch.org/docs/stable/generated/torch.nn.LSTM.html#torch.nn.LSTM)\n",
    "    - [nn.GRU](https://pytorch.org/docs/stable/generated/torch.nn.GRU.html#torch.nn.GRU)"
   ]
  },
  {
   "cell_type": "markdown",
   "metadata": {
    "id": "dBlWTrAWWOOp"
   },
   "source": [
    "### Import necessary libraries"
   ]
  },
  {
   "cell_type": "code",
   "execution_count": null,
   "metadata": {
    "id": "Nd3g6pBGWOOp"
   },
   "outputs": [],
   "source": [
    "# Import the necessary libraries\n",
    "import sys\n",
    "import numpy as np\n",
    "import matplotlib.pyplot as plt\n",
    "#%matplotlib inline\n",
    "import torch\n",
    "import copy\n",
    "from torch import nn, optim\n",
    "from torch.autograd import Variable\n",
    "from sklearn.metrics import mean_squared_error\n",
    "import json\n",
    "import itertools\n",
    "import argparse\n",
    "from argparse import RawTextHelpFormatter"
   ]
  },
  {
   "cell_type": "markdown",
   "metadata": {
    "id": "oPoUGIHATkWh"
   },
   "source": [
    "### Connecting to GPU:\n",
    "\n",
    "- This notebook uitilizes the computational power of GPUs for faster execution. In case your computers have GPU support or access to GPU servers, you do not need to execute this notebook on Google Colab.\n",
    "\n",
    "Otherwise, if you choose to use Google Colab the following steps follow:\n",
    "\n",
    "- In order to facilitate the use of GPUs in Google Colab (owing to large no. of parameters in the models), firstly you can connect to the GPU by going to *Edit* ---> *Notebook settings* ---> Select *Hardware accelerator* as *GPU*. The notebook will reconnect once and will now be connected to the GPU given by Google Colab. If the setting is not changed, then the codes will be executed using CPU.\n",
    "\n",
    "  You can check the GPU status by executing the command in the following cell to check available GPU memory and stats.\n",
    "\n",
    "  ```\n",
    "  !/opt/bin/nvidia-smi # '!' is used to access command line\n",
    "  ```"
   ]
  },
  {
   "cell_type": "code",
   "execution_count": null,
   "metadata": {
    "colab": {
     "base_uri": "https://localhost:8080/"
    },
    "id": "VCbU3PwcWcZP",
    "outputId": "5e3a4af4-1f68-4975-e3b1-8491f9fd90f2"
   },
   "outputs": [
    {
     "name": "stdout",
     "output_type": "stream",
     "text": [
      "Mon Feb 15 17:25:36 2021       \n",
      "+-----------------------------------------------------------------------------+\n",
      "| NVIDIA-SMI 460.32.03    Driver Version: 460.32.03    CUDA Version: 11.2     |\n",
      "|-------------------------------+----------------------+----------------------+\n",
      "| GPU  Name        Persistence-M| Bus-Id        Disp.A | Volatile Uncorr. ECC |\n",
      "| Fan  Temp  Perf  Pwr:Usage/Cap|         Memory-Usage | GPU-Util  Compute M. |\n",
      "|                               |                      |               MIG M. |\n",
      "|===============================+======================+======================|\n",
      "|   0  Tesla T4            Off  | 00000000:00:04.0 Off |                    0 |\n",
      "| N/A   64C    P8    11W /  70W |      0MiB / 15109MiB |      0%      Default |\n",
      "|                               |                      |                  N/A |\n",
      "+-------------------------------+----------------------+----------------------+\n",
      "                                                                               \n",
      "+-----------------------------------------------------------------------------+\n",
      "| Processes:                                                                  |\n",
      "|  GPU   GI   CI        PID   Type   Process name                  GPU Memory |\n",
      "|        ID   ID                                                   Usage      |\n",
      "|=============================================================================|\n",
      "|  No running processes found                                                 |\n",
      "+-----------------------------------------------------------------------------+\n"
     ]
    }
   ],
   "source": [
    "!/opt/bin/nvidia-smi # '!' is used to access command line"
   ]
  },
  {
   "cell_type": "markdown",
   "metadata": {
    "id": "5Pb2lXROTrOW"
   },
   "source": [
    "## Importing and Loading the Dataset: \n"
   ]
  },
  {
   "cell_type": "code",
   "execution_count": null,
   "metadata": {
    "colab": {
     "base_uri": "https://localhost:8080/"
    },
    "id": "RJoRkl_lYbWx",
    "outputId": "077fbff3-37b8-4603-e12d-046806fca030"
   },
   "outputs": [
    {
     "name": "stdout",
     "output_type": "stream",
     "text": [
      "Device Used:cuda:0\n"
     ]
    }
   ],
   "source": [
    "ngpu = 1 # Comment this out if you want to run on cpu and the next line just set device to \"cpu\"\n",
    "device = torch.device(\"cuda:0\" if (torch.cuda.is_available() and ngpu>0) else \"cpu\")\n",
    "print(\"Device Used:{}\".format(device))"
   ]
  },
  {
   "cell_type": "markdown",
   "metadata": {
    "id": "kn5xV1GqWOOq"
   },
   "source": [
    "## Loading the data"
   ]
  },
  {
   "cell_type": "markdown",
   "metadata": {
    "id": "ujm-6VlWWOOr"
   },
   "source": [
    "### Importing functions relevant to the dataset\n"
   ]
  },
  {
   "cell_type": "code",
   "execution_count": 1,
   "metadata": {
    "id": "_DTcdrxPWOOr"
   },
   "outputs": [],
   "source": [
    "from utils import *"
   ]
  },
  {
   "cell_type": "markdown",
   "metadata": {
    "id": "6Yev7rPrWOOs"
   },
   "source": [
    "### Importing the dataset\n",
    "\n",
    "The dataset used for the time-series problem is a *simulated* version of a time-series representing solar cycles.\n",
    "\n",
    "- A **solar cycle** or solar magnetic activity cycle is approximately a periodic change in solar activity measured in terms of variations in the no. of observed sunspots on the Sun's surface. The goal is to try training a recurrent neural network to predict the number of sunspots in a future cycle using the data available from the past solar cycles. \n",
    "- `dynamo_esn.txt` represents 1-dimensional solar cycle data that is **synthetically generated** through simulation (solving a differential equation). \n",
    "- The time indices that represent *months*. The vertical axis measures solar cycle activity in terms of number of sunspots. So the data is *number of sunspots* vs. *months*.\n",
    "- One **solar cycle** approximately corresponds to 11 years. A **cycle** is considered as a set of points that go from a minimum to the next maximum.\n"
   ]
  },
  {
   "cell_type": "code",
   "execution_count": null,
   "metadata": {
    "colab": {
     "base_uri": "https://localhost:8080/"
    },
    "id": "YIJgAFyZWOOt",
    "outputId": "50f51e91-a83c-460d-eb5d-e90ab4971fd5"
   },
   "outputs": [
    {
     "name": "stdout",
     "output_type": "stream",
     "text": [
      "Mounted at /content/drive\n"
     ]
    }
   ],
   "source": [
    "# In case of importing from Google Drive (mention that path), else\n",
    "# comment out these three lines. You might be required to put the value of an \n",
    "# authentication token while connecting your google drive to Colab\n",
    "from google.colab import drive\n",
    "drive.mount('/content/drive')\n",
    "train_file = \"/content/drive/My Drive/dynamo_esn.txt\" \n",
    "\n",
    "# In case of running the code from your local machine, so you provide the path to \n",
    "# the data file instead of importing through google colab\n",
    "\n",
    "# train_file = \"./dynamo_esn.txt\" \n",
    "\n",
    "# Mention the type of the dataset\n",
    "dataset = \"dynamo\"\n",
    "data = np.loadtxt(train_file) # Loads the data into a numpy array \n",
    "\n",
    "# Keep a copy of the unnormalized data for plotting purposes later on\n",
    "unnormalized_data = copy.deepcopy(data)\n",
    "\n",
    "# Normalizing the input data in the range of [0, 1] before feeding it \n",
    "# to the machine learning models\n",
    "data[:, 1], Xmax, Xmin = normalize(X=data[:, 1], feature_space=(0, 1))"
   ]
  },
  {
   "cell_type": "markdown",
   "metadata": {
    "id": "wPYmC-iOWOOu"
   },
   "source": [
    "Obtain a set of indices that indicate the starting points of the solar cycle.\n",
    "A solar cycle is considered as the set of points between two consecutive local minima of the data"
   ]
  },
  {
   "cell_type": "code",
   "execution_count": null,
   "metadata": {
    "id": "xZAQ0BmuWOOu"
   },
   "outputs": [],
   "source": [
    "minimum_idx = get_minimum(data, dataset)"
   ]
  },
  {
   "cell_type": "markdown",
   "metadata": {
    "id": "qbZ9HMObWOOv"
   },
   "source": [
    "### Plotting the time-series data"
   ]
  },
  {
   "cell_type": "code",
   "execution_count": null,
   "metadata": {
    "colab": {
     "base_uri": "https://localhost:8080/",
     "height": 373
    },
    "id": "35DlKfVwWOOv",
    "outputId": "ff1996ca-bf92-4990-b8b4-0b19af2e2db1"
   },
   "outputs": [
    {
     "data": {
      "image/png": "[encoded data removed]",
      "text/plain": [
       "<Figure size 720x360 with 1 Axes>"
      ]
     },
     "metadata": {
      "needs_background": "light",
      "tags": []
     },
     "output_type": "display_data"
    }
   ],
   "source": [
    "plt.figure(figsize=(10,5))\n",
    "#plt.rcParams[\"figure.figsize\"] = (20,10)\n",
    "plt.plot(data[:, 0], data[:, 1], '+-', color='red', label='time-series')\n",
    "plt.xlabel('Time', fontsize=16)\n",
    "plt.ylabel('Signal Amplitude', fontsize=16)\n",
    "plt.xticks(fontsize=16, rotation=10)\n",
    "plt.yticks(fontsize=16, rotation=10)\n",
    "plt.title(\"Plot of the Dynamo dataset\", fontsize=22)\n",
    "plt.legend(fontsize=20)\n",
    "plt.show()"
   ]
  },
  {
   "cell_type": "markdown",
   "metadata": {
    "id": "0K4w-Bnh5T-u"
   },
   "source": [
    "## Using an Echo state network (ESN) for modeling the data\n",
    "\n",
    "We define some helper functions for coding the class for ESN. Subsequently, we define the class for the Echo state network"
   ]
  },
  {
   "cell_type": "code",
   "execution_count": null,
   "metadata": {
    "id": "pqBZVE5b5T-u"
   },
   "outputs": [],
   "source": [
    "# Define some helper functions\n",
    "def build_history_vector(x, index_n, p):\n",
    "    \"\"\" Building the history vector ('yn')\n",
    "\n",
    "    Args:\n",
    "        x ([numpy.ndarray]): time series as a training signal\n",
    "        indexn ([int]): the index n\n",
    "        histo_size ([int]): the length of feedback vector\n",
    "\n",
    "    Returns:\n",
    "        yn ([torch.Tensor]): the list containing the set of time-series values\n",
    "                            as feedback vector    \n",
    "    \"\"\"\n",
    "    yn = torch.zeros(p)\n",
    "    for i in range(p):\n",
    "        if index_n-i < 0:\n",
    "            print(\"encountered negative index when building yn\")\n",
    "            sys.exit()\n",
    "        yn[i] = x[index_n-i]\n",
    "    return yn\n",
    "\n",
    "def build_reservoir(num_neur, conn_per_neur, spec_rad):\n",
    "    \"\"\" Building reservoir matrix using random connections and values sampled from N(0, I)\n",
    "    \"\"\"\n",
    "    Wres = np.zeros((num_neur, num_neur))\n",
    "    for i in range(num_neur):\n",
    "        random_columns = np.random.randint(0, num_neur, conn_per_neur)\n",
    "        for j in random_columns:\n",
    "            Wres[i, j] = np.random.normal(scale=1)\n",
    "    Wres = torch.from_numpy(change_spectral_radius(Wres, spec_rad)).type(torch.FloatTensor)\n",
    "    return Wres\n",
    "\n",
    "def build_Wfb(num_neur, yn_size_p, spec_rad):\n",
    "    \"\"\" Building a feedback matrix \n",
    "    \"\"\"\n",
    "    Wfb = np.random.normal(scale=1, size=(num_neur, yn_size_p))\n",
    "    U, S, VH = np.linalg.svd(Wfb) #S contains the sqrt of eigenvs of Wfb*WfbH \n",
    "    Wfb = Wfb * np.sqrt(spec_rad) / np.max(S)\n",
    "    #now the max eigenv of Wfb*(Wfb)T is equal to spec_rad \n",
    "    Wfb = torch.from_numpy(Wfb).type(torch.FloatTensor)\n",
    "    return Wfb\n",
    "    \n",
    "def change_spectral_radius(Wres, new_radius):\n",
    "    \"\"\" Adjust spectral radius of the reservoir matrices\n",
    "    \"\"\"\n",
    "    eigenvalues = np.linalg.eig(Wres)[0]\n",
    "    max_absolute_eigen = np.max(np.absolute(eigenvalues))\n",
    "    return Wres * new_radius/max_absolute_eigen"
   ]
  },
  {
   "cell_type": "markdown",
   "metadata": {
    "id": "Y1WKkvXILTTV"
   },
   "source": [
    "Defining the ESN class. Here, the class is referred to as `NovelESN` because of some variations e.g. with step-ahead predictions and a *teacher forcing* using the input. \n",
    "\n",
    "Task:\n",
    "- Complete the `update_state` function that basically updates the hidden state of the ESN using the equation:\n",
    "\n",
    "  $\\mathbf{h}_{n+1} = \\tanh(\\mathbf{W}_{res} \\cdot \\mathbf{h}_{n} + \\mathbf{W}_{fb} \\cdot \\mathbf{x}_{n})$"
   ]
  },
  {
   "cell_type": "code",
   "execution_count": null,
   "metadata": {
    "id": "o6V3eTpu5T-v"
   },
   "outputs": [],
   "source": [
    "class NovelESN(nn.Module):\n",
    "    \"\"\" This class defines the model for Novel Echo state network\n",
    "    \"\"\"\n",
    "    def __init__(self, num_neur=1000, conn_per_neur=10,\n",
    "                spectr_rad=0.8, tau=151, history_q=152, history_p=32,\n",
    "                beta_regularizer=1e-10, lr=1e-3):\n",
    "        \"\"\"\n",
    "        Initializing the model parameters:\n",
    "\n",
    "        - num_neur: No. of neurons\n",
    "        - conn_per_neur: Number of connections per neuron\n",
    "        - spectr_rad: Spectral Radius required for the non-trainable matrices\n",
    "        - tau: Defines the index for predicting future samples\n",
    "        - history_q: Starting from the index 'tau' how many steps to predict behind \n",
    "                     (jump to 'tau' and then predict 'history_q' values behind)\n",
    "        - history_p: No. of values of taken in from the time-series as a feedback vector\n",
    "        - beta_regularizer: Value of beta used for regularization (L2) of the weights\n",
    "        - lr: Learning rate to be used\n",
    "        \"\"\"\n",
    "        self.num_neur = num_neur\n",
    "        self.xstate = torch.zeros((num_neur))\n",
    "        self.history_p = history_p\n",
    "        self.history_q = history_q\n",
    "        self.spectral_rad = spectr_rad\n",
    "        self.Wfb = build_Wfb(self.num_neur, self.history_p, self.spectral_rad).requires_grad_(False)\n",
    "        self.tau = tau\n",
    "        self.Wres = build_reservoir(num_neur, conn_per_neur, self.spectral_rad).requires_grad_(False)\n",
    "        self.beta_regularizer = beta_regularizer\n",
    "        self.lr = lr\n",
    "    \n",
    "    def init_output_linear_layer(self, input_size, output_size):\n",
    "        \"\"\"\n",
    "        Constructs the output layer of the ESN architecture, here we assume that the\n",
    "        output of the ESN is y_t = W_out * h_t + b_out, i.e. without any output non-linear \n",
    "        activate function\n",
    "        \"\"\"\n",
    "        net_out = nn.Sequential(\n",
    "            nn.Linear(in_features=input_size, out_features=output_size, bias=True)\n",
    "        )\n",
    "        return net_out\n",
    "    \n",
    "    def teacher_forcing(self, x):\n",
    "        \"\"\" This function uses teacher forcing, i.e. samples using the training signal\n",
    "        to calculate a list of hidden states before passing it to train the output\n",
    "        linear layer\n",
    "\n",
    "        Args:\n",
    "        - x: The training signal\n",
    "        Returns:\n",
    "        - Xstates: A torch tensor containing the predicted hidden states across \n",
    "        different time stamps\n",
    "        \"\"\"\n",
    "        #we will save the training data for the predict function\n",
    "        self.x = torch.Tensor(x) \n",
    "        self.N = len(x)\n",
    "        \n",
    "        # min index to build the first y_{n}\n",
    "        nstart = self.history_p - 1 \n",
    "\n",
    "        # Initially this vector contains values from index p-1 to p\n",
    "        yn = build_history_vector(self.x, nstart, self.history_p)\n",
    "        # we have the pairs y_{p-1}, x_{p-1}, where x_{p-1} = 0 (transcient)\n",
    "        \n",
    "        # Computes the value of x_{p} from x_{p-1}, y_{p-1}, W_res, W_fb\n",
    "        # Updated value of x_{p} is saved as self.xstate\n",
    "        # After the update we have the state x_{p}, we will save states from here \n",
    "        self.update_state(yn) \n",
    "        \n",
    "        num_saved = 0 # Counter to count number of saved states\n",
    "\n",
    "        # States x are saved from index n=p to n=N-1, \n",
    "        # a total of N-p saved states\n",
    "        num_states = self.N - self.history_p\n",
    "\n",
    "        # Initializee a numpy matrix to save states x_{n}\n",
    "        # from n=p to n=N-1\n",
    "        Xstates = torch.zeros((num_states, self.num_neur))\n",
    "        \n",
    "        for n in range(self.history_p, self.N):\n",
    "            \n",
    "            #we update yn to pair xn, to create a list of N-p values of y_{n} (for feedback)\n",
    "            yn = torch.roll(yn, shifts=1)\n",
    "            yn[0] = self.x[n]\n",
    "            \n",
    "            #yn.appendleft(train_signal[n]) \n",
    "            \n",
    "            #print(n, self.xstate.shape)\n",
    "            #xn is already ready\n",
    "            Xstates[num_saved, :] = self.xstate.reshape((-1,)) #save\n",
    "            \n",
    "            # counter updated\n",
    "            num_saved += 1 \n",
    "            \n",
    "            # This updates the value of self.xstate using new value\n",
    "            # of yn (feedback vector), and self.xstate\n",
    "            self.update_state(yn)\n",
    "\n",
    "        #after the loop we have the final state x_{N}, not saved in Xstates\n",
    "        # So, self.Xstates only contains values from x_{p-1} to x_{N-1}.\n",
    "        self.Xstates = Xstates #the function predict will need the Xstates\n",
    "        \n",
    "        return Xstates\n",
    "    \n",
    "    def train(self, x, num_epochs = 30):\n",
    "        \"\"\" This function optimizes the output parameters of ESN viz. W_out, b.\n",
    "        This is achieved by solving a ridge regression problem using the \n",
    "        predictions from the reservoir and actual outputs\n",
    "\n",
    "        Args:\n",
    "            train_signal ([numpy.ndarray]): time series used as training data\n",
    "        \n",
    "        Returns:\n",
    "            train_mse: Mean squared error obtained during training (after fitting)\n",
    "        \"\"\"\n",
    "        #tau, q and p have conditions that the user must respect\n",
    "        self.check_tau_q_and_p() \n",
    "\n",
    "        # Builds a matrix of dimension N-tau-p x q s.t.\n",
    "        # Y_{n+tau}^{q} = [y_{p+tau}, y_{p+tau+1}, ..., y_{N-1}], \n",
    "        # with each y_{i} of dimension q x 1, and there are in total \n",
    "        # N-tau-p such training examples\n",
    "        YntauVects = self.buildYntauVectors() \n",
    "\n",
    "        # Number of samples to be considered for training, which is equal\n",
    "        # to N-tau-p\n",
    "        num_vects = YntauVects.shape[0]\n",
    "\n",
    "        #NOTE: self.Xstates contains N-p number of values already computed, \n",
    "        # so we take only N-p-tau values from the larger set of reservoir \n",
    "        # states to create our training data\n",
    "        XstatesTrain = self.Xstates[0:num_vects, :] \n",
    "        \n",
    "        # XstatesTrain and YntauVects must have the same number of vectors\n",
    "        # for training\n",
    "        #NOTE: Introduce a training using Adam\n",
    "\n",
    "        # Initialize the output linear layer\n",
    "        net_out = self.init_output_linear_layer(input_size=XstatesTrain.shape[1], \n",
    "                                         output_size=YntauVects.shape[1])\n",
    "        \n",
    "        optimizer_esn = torch.optim.Adam(net_out.parameters(), lr=self.lr, weight_decay=self.beta_regularizer)\n",
    "        criterion = nn.MSELoss()\n",
    "        losses = []\n",
    "        tr_verbose = True\n",
    "        #val_losses = []\n",
    "        \n",
    "        # Training loop\n",
    "        for epoch in range(num_epochs):\n",
    "        \n",
    "            optimizer_esn.zero_grad()\n",
    "            X = Variable(XstatesTrain, requires_grad=False).type(torch.FloatTensor)\n",
    "            tr_predictions = net_out(X)\n",
    "            tr_loss = criterion(tr_predictions, YntauVects)\n",
    "            tr_loss.backward(retain_graph=True)\n",
    "            optimizer_esn.step()\n",
    "\n",
    "            losses.append(tr_loss.item())\n",
    "\n",
    "            #with torch.no_grad():\n",
    "\n",
    "             #   val_predictions = net_out(val_inputs)\n",
    "             #   val_loss = criterion(val_predictions, val_targets)\n",
    "             #   val_losses.append(val_loss.item())\n",
    "\n",
    "            if tr_verbose == True and (((epoch + 1) % 50) == 0 or epoch == 0):\n",
    "                print(\"Epoch: {}/{}, Training MSE Loss:{:.9f}\".format(epoch+1, \n",
    "                num_epochs, tr_loss))\n",
    "\n",
    "        return losses, net_out\n",
    "        \n",
    "        #self.reg_model, train_mse = solve_ridge_regr(XstatesTrain, YntauVects, \n",
    "        #                                                            self.beta)\n",
    "\n",
    "        #return train_mse\n",
    "\n",
    "    def predict(self, net_out):\n",
    "        \"\"\" This function performs prediction for Echo State Network (ESN)\n",
    "        using the trained regression model\n",
    "\n",
    "        Returns:\n",
    "            ypredNtau ([numpy.ndarray]): No. of steps to predict\n",
    "            pred_indexes ([numpy.ndarray]): array of indices for predicting\n",
    "            values\n",
    "        \"\"\"\n",
    "        \n",
    "        self.xstate = self.xstate.reshape((-1,))\n",
    "        with torch.no_grad():\n",
    "            ypredNtau = net_out(self.xstate)\n",
    "            ypredNtau = torch.flipud(ypredNtau)\n",
    "        \n",
    "        #ypredNtau = self.reg_model.predict([self.xstate])[0] #xstate is x_N\n",
    "        #ypredNtau = np.flip(ypredNtau) #we want indexes progress as time does\n",
    "        \n",
    "        # Create prediction indices\n",
    "        index_last_pred = self.N + self.tau # = M+tau\n",
    "        index_first_pred = index_last_pred - (self.history_q - 1) # = M+tau-(q-1)\n",
    "        pred_indexes = np.arange(index_first_pred, index_last_pred + 1)\n",
    "        \n",
    "        # Convert torch tensor to numpy\n",
    "        ypredNtau = ypredNtau.numpy()\n",
    "        \n",
    "        return ypredNtau, pred_indexes #ypred_{N+tau}\n",
    "    \n",
    "    \n",
    "    def buildYntauVectors(self):\n",
    "        \"\"\" Build a list of target vectors for regression\n",
    "\n",
    "        Returns:\n",
    "            YntauVects [(numpy.ndarray)]: Matrix of prediction values ((N-tau-p) x q)\n",
    "            [num_samples x dimension of 'yntau']\n",
    "        \"\"\"\n",
    "        nstart = self.history_p - 1 #the pairs xn, yn started at p-1\n",
    "        yntau = build_history_vector(self.x, nstart + self.tau, \n",
    "                                    self.history_q)\n",
    "        # n will go from p to N-tau-1, because we go tau in the future\n",
    "        num_vects = self.N - self.tau - self.history_p\n",
    "        YntauVects = torch.zeros((num_vects, self.history_q))\n",
    "        num_saved = 0\n",
    "        for n in range(self.history_p, self.N - self.tau):    \n",
    "            # Shift the array\n",
    "            yntau = torch.roll(yntau, shifts=1)\n",
    "            yntau[0] = self.x[n+self.tau]\n",
    "            \n",
    "            #yntau.appendleft(self.x[n + self.tau])\n",
    "            \n",
    "            YntauVects[num_saved, :] = yntau\n",
    "            num_saved += 1\n",
    "        return YntauVects #y_{n+tau} vectors between n=p to n=N-tau-1 \n",
    "    \n",
    "    def update_state(self, xn):\n",
    "        \"\"\" This function computes the value of the next reservoir state\n",
    "        using the current value of the reservoir state h_{n} and \n",
    "        the corresponding value of the current input x_{n} by:\n",
    "        \n",
    "        Task:\n",
    "        h_{n+1} = tanh(W_res @ h_{n} + W_fb @ x_{n})\n",
    "\n",
    "        h_{n} is stored in self.xstate. This function rewrites the \n",
    "        value of self.xstate with h_{n+1}\n",
    "\n",
    "        Args:\n",
    "            xn (numpy.array): Input sequence\n",
    "        \n",
    "        Returns: \n",
    "            None (self.xstate gets overridden with new result)\n",
    "        \"\"\"\n",
    "        \n",
    "        # Write your code here\n",
    "        self.xstate = torch.matmul(self.Wres, self.xstate).reshape(-1, 1) + torch.matmul(self.Wfb, xn).reshape(-1, 1)\n",
    "        self.xstate = torch.tanh(self.xstate)\n",
    "        return\n",
    "\n",
    "  \n",
    "    def check_tau_q_and_p(self):\n",
    "        \"\"\" This function checks whether the value of q and tau\n",
    "        are same or not. Also checks if the value of p + tau is\n",
    "        lower than the training signal length\n",
    "        \"\"\"\n",
    "        if self.tau < self.history_q-1:\n",
    "            print(\"q is too big for the given tau\")\n",
    "            sys.exit(\"\")\n",
    "        if self.history_p + self.tau > self.N - 1:\n",
    "            print(\"p + tau must be lower than the train signal length\")\n",
    "            sys.exit()\n",
    "        return"
   ]
  },
  {
   "cell_type": "markdown",
   "metadata": {
    "id": "sDx96DtX5T-x"
   },
   "source": [
    "### Training and making predictions using the ESN model"
   ]
  },
  {
   "cell_type": "code",
   "execution_count": null,
   "metadata": {
    "id": "7XY1HvKu5T-w"
   },
   "outputs": [],
   "source": [
    "# Training and Prediction using ESN\n",
    "def train_and_predict_ESN(model, num_epochs, train_data, test_data=None):\n",
    "    \"\"\" This function is used for calling the functions for training and \n",
    "    predicting the unseen cycle\n",
    "\n",
    "    Args:\n",
    "    - model: The object of the NovelESN class used for prediction\n",
    "    - num_epochs: Number of epochs used for training the ESN model\n",
    "    - train_data: The training data which contains both the time-instants in the\n",
    "    first column, and the actual data in the second columns\n",
    "    - test_data: The testing data which contains both the time-instants in the\n",
    "    first column, and the actual data in the second columns\n",
    "  \n",
    "    Returns:\n",
    "    - predictions_esn: The predicted values using the ESN model for the unseen \n",
    "    cycle / test cycle\n",
    "    - te_data_signal: The actual values of the test cycle\n",
    "    - pred_indexes: The time instants of the test cycle\n",
    "    \"\"\"\n",
    "    \n",
    "    if not (test_data is None) and len(test_data) > 0: # In case the 'future' cycle is still within the dataset\n",
    "        \n",
    "        # Get the training and testing signals\n",
    "        tr_data_signal = train_data[:, -1].reshape((-1, 1))\n",
    "        te_data_signal = test_data[:, -1].reshape((-1, 1))\n",
    "      \n",
    "        # Compute the static hidden layer output\n",
    "        model.teacher_forcing(tr_data_signal)\n",
    "        \n",
    "        # Training the model \n",
    "        train_mse_vec, net_out = model.train(tr_data_signal, num_epochs)\n",
    "        \n",
    "        # Predictions using the model and check test error\n",
    "        predictions_esn, pred_indexes = model.predict(net_out)\n",
    "        test_mse = mean_squared_error(te_data_signal, predictions_esn)\n",
    "        \n",
    "        print(\"*************************************************************** \\n\")\n",
    "        print(\"{} - {},  {} - {:.8f},  {} - {:.8f}\".format(\"Model\", \"ESN\",\n",
    "                                                            \"Training Error\",\n",
    "                                                            train_mse_vec[-1],\n",
    "                                                            \"Test Error\",\n",
    "                                                            test_mse))\n",
    "        \n",
    "    else: # In case the 'future' cycle is not within the dataset\n",
    "\n",
    "        # Get the training and testing signals\n",
    "        tr_data_signal = train_data[:, -1].reshape((-1, 1))\n",
    "\n",
    "        # As the future cycle is not within the dataset\n",
    "        te_data_signal = None\n",
    "        \n",
    "        # Compute the static hidden layer output\n",
    "        model.teacher_forcing(tr_data_signal)\n",
    "\n",
    "        # Training the model \n",
    "        train_mse_vec, net_out = model.train(tr_data_signal, num_epochs)\n",
    "        \n",
    "        # Predictions using the model \n",
    "        predictions_esn, pred_indexes = model.predict(net_out)\n",
    "        test_mse = np.nan # As there is no true reference to compare to\n",
    "\n",
    "        print(\"*************************************************************** \\n\")\n",
    "        print(\"{} - {},  {} - {:.8f},  {} - {:.8f}\".format(\"Model\", \"ESN\",\n",
    "                                                            \"Training Error\",\n",
    "                                                            train_mse_vec[-1],\n",
    "                                                            \"Test Error\",\n",
    "                                                            test_mse))\n",
    "\n",
    "    return predictions_esn, te_data_signal, pred_indexes"
   ]
  },
  {
   "cell_type": "markdown",
   "metadata": {
    "id": "bbntdl_DNfko"
   },
   "source": [
    "### Loading the data for making predictions using ESN model"
   ]
  },
  {
   "cell_type": "code",
   "execution_count": null,
   "metadata": {
    "id": "GzLUuO9N5T-x"
   },
   "outputs": [],
   "source": [
    "# Get the data (More details about the cycles are provided in the section where the\n",
    "# RNN models are used)\n",
    "X, Y = get_msah_training_dataset(data, minimum_idx=minimum_idx, tau=1, p=1)\n",
    "\n",
    "# predict cycle index = entered predict cycle num - 1\n",
    "predict_cycle_num = 74\n",
    "\n",
    "# Get the training, testing data\n",
    "xtrain, ytrain, ytest_esn = get_cycle(X, Y, idx=predict_cycle_num)\n",
    "\n",
    "# The ESN actually predicts ahead the entore test cycle\n",
    "tau = len(ytest_esn) - 1\n",
    "history_q = tau + 1\n",
    "\n",
    "# Concat data \n",
    "xtrain_ct = concat_data(xtrain, col=-1)\n",
    "ytrain_ct = concat_data(ytrain, col=-1)"
   ]
  },
  {
   "cell_type": "code",
   "execution_count": null,
   "metadata": {
    "colab": {
     "base_uri": "https://localhost:8080/"
    },
    "id": "fXFiYUer5T-y",
    "outputId": "c6bf4fc7-9b31-4065-815b-95497240e561"
   },
   "outputs": [
    {
     "name": "stdout",
     "output_type": "stream",
     "text": [
      "(10665, 2) (10665, 2) (130, 2)\n"
     ]
    }
   ],
   "source": [
    "# Check the shape of the inputs and targets\n",
    "print(xtrain_ct.shape, ytrain_ct.shape, ytest_esn.shape)"
   ]
  },
  {
   "cell_type": "code",
   "execution_count": null,
   "metadata": {
    "id": "GuEt6VCI5T-y"
   },
   "outputs": [],
   "source": [
    "# Define the model using model parameters\n",
    "model_esn = NovelESN(\n",
    "                num_neur=1000,\n",
    "                conn_per_neur=10,\n",
    "                spectr_rad=0.8,\n",
    "                tau=tau,\n",
    "                history_q=history_q,\n",
    "                history_p=32,\n",
    "                beta_regularizer=1e-10,\n",
    "                lr=1e-2\n",
    "                )"
   ]
  },
  {
   "cell_type": "code",
   "execution_count": null,
   "metadata": {
    "colab": {
     "base_uri": "https://localhost:8080/"
    },
    "id": "Fadtp5uc5T-y",
    "outputId": "ad04170b-1d97-4699-b64e-878de97d990e"
   },
   "outputs": [
    {
     "name": "stdout",
     "output_type": "stream",
     "text": [
      "Epoch: 1/1000, Training MSE Loss:0.122030906\n",
      "Epoch: 50/1000, Training MSE Loss:0.017269595\n",
      "Epoch: 100/1000, Training MSE Loss:0.015195940\n",
      "Epoch: 150/1000, Training MSE Loss:0.014694906\n",
      "Epoch: 200/1000, Training MSE Loss:0.014462715\n",
      "Epoch: 250/1000, Training MSE Loss:0.014288902\n",
      "Epoch: 300/1000, Training MSE Loss:0.014138971\n",
      "Epoch: 350/1000, Training MSE Loss:0.013999968\n",
      "Epoch: 400/1000, Training MSE Loss:0.013865751\n",
      "Epoch: 450/1000, Training MSE Loss:0.013734292\n",
      "Epoch: 500/1000, Training MSE Loss:0.013605588\n",
      "Epoch: 550/1000, Training MSE Loss:0.013480367\n",
      "Epoch: 600/1000, Training MSE Loss:0.013359503\n",
      "Epoch: 650/1000, Training MSE Loss:0.013243755\n",
      "Epoch: 700/1000, Training MSE Loss:0.013133727\n",
      "Epoch: 750/1000, Training MSE Loss:0.013029838\n",
      "Epoch: 800/1000, Training MSE Loss:0.012932349\n",
      "Epoch: 850/1000, Training MSE Loss:0.012841369\n",
      "Epoch: 900/1000, Training MSE Loss:0.012756888\n",
      "Epoch: 950/1000, Training MSE Loss:0.012678778\n",
      "Epoch: 1000/1000, Training MSE Loss:0.012606833\n",
      "*************************************************************** \n",
      "\n",
      "Model - ESN,  Training Error - 0.01260683,  Test Error - 0.00298926\n"
     ]
    }
   ],
   "source": [
    "# pred of test cycle values using the function 'train_and_predict_ESN'\n",
    "num_epochs = 1000 # Set the number of epochs here\n",
    "predictions_esn, _, pred_indexes = train_and_predict_ESN(model_esn, num_epochs, train_data=xtrain_ct, test_data=ytest_esn)"
   ]
  },
  {
   "cell_type": "code",
   "execution_count": null,
   "metadata": {
    "colab": {
     "base_uri": "https://localhost:8080/",
     "height": 341
    },
    "id": "v4V27fvL5T-z",
    "outputId": "de4c267a-639e-491f-d393-bf524ea1aaed"
   },
   "outputs": [
    {
     "data": {
      "image/png": "[encoded data removed]",
      "text/plain": [
       "<Figure size 720x360 with 1 Axes>"
      ]
     },
     "metadata": {
      "needs_background": "light",
      "tags": []
     },
     "output_type": "display_data"
    }
   ],
   "source": [
    "plot_predictions(predictions=predictions_esn, ytest=ytest_esn, \n",
    "                title=\"ESN model predictions for cycle index {}\".format(predict_cycle_num))\n",
    "\n",
    "#ytest_un = np.copy(ytest)\n",
    "#ytest_un[:,-1] = unnormalize(ytest[:,-1], Xmax, Xmin)\n",
    "#plot_predictions(predictions=unnormalize(predictions_esn, Xmax, Xmin), ytest=ytest_un, \n",
    "#                title=\"ESN model predictions (unnormalized) for cycle index {}\".format(predict_cycle_num))"
   ]
  },
  {
   "cell_type": "markdown",
   "metadata": {
    "id": "AEGkw679WOOz"
   },
   "source": [
    "## Loading the data for training the RNN models\n",
    "\n",
    "### Obtain the data and targets by heuristically setting the number of taps\n",
    "\n",
    "The variable `num_taps` decides the number of 'past' values used by the RNN model for predicting a single \n",
    "prediction"
   ]
  },
  {
   "cell_type": "code",
   "execution_count": null,
   "metadata": {
    "id": "L8FDCFvXWOOz"
   },
   "outputs": [],
   "source": [
    "num_taps_rnn = 32\n",
    "output_size_tau = 1\n",
    "X, Y = get_msah_training_dataset(data, minimum_idx=minimum_idx, tau = output_size_tau, p=num_taps_rnn)"
   ]
  },
  {
   "cell_type": "markdown",
   "metadata": {
    "id": "ULeShPoNWOOz"
   },
   "source": [
    "### Get xtrain, ytrain, ytest for predicting the cycle index 74 (75th cycle). \n",
    "\n",
    "*NOTE:* The dynamo dataset consists of 77 cycles (indexed from 0 to 76). In case `predict_cycle_num` is equal to 76 (i.e. number of total cycles - 1), the future cycle would be predicted because no data is currently available."
   ]
  },
  {
   "cell_type": "code",
   "execution_count": null,
   "metadata": {
    "id": "W0vTyMjFWOO0"
   },
   "outputs": [],
   "source": [
    "predict_cycle_num = 74\n",
    "xtrain, ytrain, ytest = get_cycle(X, Y, idx=predict_cycle_num)"
   ]
  },
  {
   "cell_type": "markdown",
   "metadata": {
    "id": "9iOS-r0pWOO0"
   },
   "source": [
    "`xtrain` is now a list containing all the inputs data up to the start of cycle 74.\n",
    "`ytrain` contains the targets associated with these inputs.\n",
    "`ytest` contains the 74th cycle itself required for validation.\n",
    "\n",
    "Apply `concat_data` to concatenate the inputs and keep only the signals (i.e. not the timestamp). We also add an extra dimension required to have the data used as input to torch models."
   ]
  },
  {
   "cell_type": "code",
   "execution_count": null,
   "metadata": {
    "id": "9gXOw-odWOO0"
   },
   "outputs": [],
   "source": [
    "train_data_inputs, train_data_targets = concat_data(xtrain), concat_data(ytrain) \n",
    "\n",
    "if len(train_data_inputs.shape) == 2:\n",
    "    # Extra dimension to be added\n",
    "    N, P = train_data_inputs.shape\n",
    "    train_data_inputs = train_data_inputs.reshape((N, P, 1))"
   ]
  },
  {
   "cell_type": "code",
   "execution_count": null,
   "metadata": {
    "colab": {
     "base_uri": "https://localhost:8080/"
    },
    "id": "n8exBMIRWOO0",
    "outputId": "df86c0b6-1571-4134-9806-76c14669ca52"
   },
   "outputs": [
    {
     "data": {
      "text/plain": [
       "(10660, 32, 1)"
      ]
     },
     "execution_count": 32,
     "metadata": {
      "tags": []
     },
     "output_type": "execute_result"
    }
   ],
   "source": [
    "train_data_inputs.shape"
   ]
  },
  {
   "cell_type": "markdown",
   "metadata": {
    "id": "YwT0hICdWOO3"
   },
   "source": [
    "Split the training data into a training and validation set. We use 90 % of the data for training and 10 % for validation"
   ]
  },
  {
   "cell_type": "code",
   "execution_count": null,
   "metadata": {
    "id": "hyd97WbNWOO4"
   },
   "outputs": [],
   "source": [
    "tr_inputs, tr_targets, val_inputs, val_targets = train_validation_split(\n",
    "    train_data_inputs, train_data_targets, tr_split=0.9)"
   ]
  },
  {
   "cell_type": "markdown",
   "metadata": {
    "id": "WcgMqXklWOO4"
   },
   "source": [
    "\n",
    "Check the sizes of the generated training and testing data"
   ]
  },
  {
   "cell_type": "markdown",
   "metadata": {
    "id": "HzIadETgWOO4"
   },
   "source": [
    "## Resulting dataset\n",
    "\n",
    "In this section we investigate the sizes of the generated training and testing datasets."
   ]
  },
  {
   "cell_type": "code",
   "execution_count": null,
   "metadata": {
    "colab": {
     "base_uri": "https://localhost:8080/"
    },
    "id": "lCBSXQeOWOO5",
    "outputId": "022383a3-e919-49ab-a46c-4fda6f0abb51"
   },
   "outputs": [
    {
     "name": "stdout",
     "output_type": "stream",
     "text": [
      "training inputs shape\t torch.Size([9594, 32, 1])\n",
      "training targets shape\t torch.Size([9594, 1])\n"
     ]
    }
   ],
   "source": [
    "print(\"training inputs shape\\t\", tr_inputs.shape)\n",
    "print(\"training targets shape\\t\", tr_targets.shape)"
   ]
  },
  {
   "cell_type": "markdown",
   "metadata": {
    "id": "061AImnEWOO5"
   },
   "source": [
    "One row of the input data consists to `num_taps` consecutive time series samples.\n",
    "The corresponding row in the training target consist in the next time series sample.\n",
    "This means that the target for the first input, is the last data point of the second input."
   ]
  },
  {
   "cell_type": "code",
   "execution_count": null,
   "metadata": {
    "colab": {
     "base_uri": "https://localhost:8080/"
    },
    "id": "fJAKQcC0WOO5",
    "outputId": "bfd70efe-79f9-4034-f9f2-492546c5fc2e"
   },
   "outputs": [
    {
     "name": "stdout",
     "output_type": "stream",
     "text": [
      "First target:\t\t\t tensor([0.0085])\n",
      "Last sample of second input:\t tensor([0.0085])\n"
     ]
    }
   ],
   "source": [
    "print(\"First target:\\t\\t\\t\",tr_targets[0])\n",
    "print(\"Last sample of second input:\\t\",tr_inputs[1][-1])"
   ]
  },
  {
   "cell_type": "markdown",
   "metadata": {
    "id": "0GaTCSMFWOO6"
   },
   "source": [
    "## Defining the Model"
   ]
  },
  {
   "cell_type": "markdown",
   "metadata": {
    "id": "uQ0ZNPH0WOO6"
   },
   "source": [
    "### Define the RNN model class\n",
    "\n",
    "This class defines the RNN model used for fitting on the time-series data\n",
    "\n",
    "**Tasks:** \n",
    "- Following the PyTorch documentation for RNN, LSTM and GRU (as provided in the references), initialise the value of `self.rnn` for the class `RNN_model`. The procedure on how to initialise the network for an RNN has been shown. Complete the code block for LSTM, GRU. Pay attention to the shape of the inputs and outputs to the RNN\n",
    "- Insert a *fully-connected* linear layer that takes the RNN output and returns the prediction to be compared with the target.\n",
    "- Complete the forward function. *Hint:* The forward function takes the output of the RNN at the *last time-step* and passses it to the fully connected layer "
   ]
  },
  {
   "cell_type": "code",
   "execution_count": null,
   "metadata": {
    "id": "c6RluoWvWOO7"
   },
   "outputs": [],
   "source": [
    "# Create an RNN model for prediction\n",
    "class RNN_model(nn.Module):\n",
    "    \"\"\" This super class defines the specific model to be used i.e. LSTM or GRU or RNN\n",
    "    \"\"\"\n",
    "    def __init__(self, input_size, output_size, n_hidden, n_layers, \n",
    "        model_type, lr, num_epochs, num_directions=1, batch_first = True):\n",
    "        super(RNN_model, self).__init__()\n",
    "        \"\"\"\n",
    "        Args:\n",
    "        - input_size: The dimensionality of the input data\n",
    "        - output_size: The dimensionality of the output data\n",
    "        - n_hidden: The size of the hidden layer, i.e. the number of hidden units used\n",
    "        - n_layers: The number of hidden layers\n",
    "        - model_type: The type of modle used (\"lstm\"/\"gru\"/\"rnn\")\n",
    "        - lr: Learning rate used for training\n",
    "        - num_epochs: The number of epochs used for training\n",
    "        - num_directions: Parameter for bi-directional RNNs (usually set to 1 in this case, for bidirectional set as 2)\n",
    "        - batch_first: Option to have batches with the batch dimension as the starting dimension \n",
    "        of the input data\n",
    "        \"\"\"\n",
    "        # Defining some parameters\n",
    "        self.hidden_dim = n_hidden  \n",
    "        self.num_layers = n_layers\n",
    "        self.input_size = input_size\n",
    "        self.output_size = output_size\n",
    "        \n",
    "        self.model_type = model_type\n",
    "        self.lr = lr\n",
    "        self.num_epochs = num_epochs\n",
    "        \n",
    "        # Predefined:\n",
    "        ## Use only the forward direction \n",
    "        self.num_directions = 1\n",
    "        \n",
    "        ## The input tensors must have shape (batch_size,...)\n",
    "        self.batch_first = True\n",
    "        \n",
    "        # Defining the recurrent layers \n",
    "        if model_type.lower() == \"rnn\": # RNN \n",
    "            self.rnn = nn.RNN(input_size=self.input_size, hidden_size=self.hidden_dim, \n",
    "                num_layers=self.num_layers, batch_first=self.batch_first)   \n",
    "        elif model_type.lower() == \"lstm\": # LSTM\n",
    "            self.rnn = nn.LSTM(input_size=self.input_size, hidden_size=self.hidden_dim, \n",
    "                num_layers=self.num_layers, batch_first=self.batch_first)\n",
    "        elif model_type.lower() == \"gru\": # GRU\n",
    "            self.rnn = nn.GRU(input_size=self.input_size, hidden_size=self.hidden_dim, \n",
    "                num_layers=self.num_layers, batch_first=self.batch_first)  \n",
    "        else:\n",
    "            print(\"Model type unknown:\", model_type.lower()) \n",
    "            sys.exit() \n",
    "        \n",
    "        # Fully connected layer to be used for mapping the output\n",
    "        self.fc = nn.Linear(self.hidden_dim * self.num_directions, self.output_size)\n",
    "    \n",
    "    def init_h0(self, batch_size):\n",
    "        \"\"\" This function defines the initial hidden state of the RNN\n",
    "        \"\"\"\n",
    "        # This method generates the first hidden state of zeros (h0) which is used in the forward pass\n",
    "        h0 = torch.zeros(self.num_layers, batch_size, self.hidden_dim)\n",
    "        return h0\n",
    "    \n",
    "    def forward(self, x):\n",
    "        \"\"\" This function defines the forward function to be used for the RNN model\n",
    "        \"\"\"\n",
    "        batch_size = x.shape[0]\n",
    "        \n",
    "        # Obtain the RNN output\n",
    "        r_out, hn_all = self.rnn(x)\n",
    "        \n",
    "        # Reshaping the output appropriately\n",
    "        r_out = r_out.contiguous().view(batch_size, -1, self.num_directions, self.hidden_dim)\n",
    "        \n",
    "        # Select the last time-step\n",
    "        r_out = r_out[:, -1, :, :]\n",
    "        r_out_last_step = r_out.reshape((-1, self.hidden_dim))\n",
    "        \n",
    "        # Passing the output to the fully connected layer\n",
    "        y = self.fc(r_out_last_step)\n",
    "        return y"
   ]
  },
  {
   "cell_type": "markdown",
   "metadata": {
    "id": "PdoOVYYVWOO7"
   },
   "source": [
    "### Define the model configuration options\n",
    "\n",
    "A single dictionary named `options` consists of the model and training parameters for all the various RNN models. To understand what each option means refer to the documentation of `nn.RNN`, `nn.LSTM` and `nn.GRU`."
   ]
  },
  {
   "cell_type": "code",
   "execution_count": null,
   "metadata": {
    "id": "2mgPBIW1WOO7"
   },
   "outputs": [],
   "source": [
    "options = {\n",
    "\"lstm\":{\n",
    "    \"input_size\":1,\n",
    "    \"output_size\":len(ytest),\n",
    "    \"n_hidden\":40,\n",
    "    \"n_layers\":2,\n",
    "    \"model_type\":\"lstm\",\n",
    "    \"lr\":1e-2,\n",
    "    \"num_epochs\":300\n",
    "},\n",
    "\n",
    "}"
   ]
  },
  {
   "cell_type": "markdown",
   "metadata": {
    "id": "hBr9fSDNWOO8"
   },
   "source": [
    "### Train using RNN models\n",
    "\n",
    "This function describes the training procedure using the chosen RNN model.\n",
    "An step-wise decaying learning rate is used to aid the training for deeper networks.\n",
    "\n",
    "- Task: Complete the training loop. This includes:\n",
    "  - The forward pass\n",
    "  - Calculating the loss using the criterion\n",
    "  - Backpropagation\n",
    "  - Updating the weights\n",
    "\n",
    "Use something like the standard code that you have used in previous exercises so far\n"
   ]
  },
  {
   "cell_type": "code",
   "execution_count": null,
   "metadata": {
    "id": "MRGMVk0rWOO8"
   },
   "outputs": [],
   "source": [
    "def train_rnn(model, nepochs, tr_inputs, tr_targets, val_inputs, val_targets, tr_verbose=True):\n",
    "    \"\"\" This function implements the training algorithm for the RNN model\n",
    "\n",
    "    Args:\n",
    "    - model: object of the `RNN_Model` class\n",
    "    - tr_inputs: Training data inputs of dimension (N_train_samples x num_taps x input_size)\n",
    "    - tr_outputs: Training targets of dimension (N_train_samples x output_size)\n",
    "    - val_inputs: Validation data inputs of dimension (N_val_samples x num_taps x input_size)\n",
    "    - val_targets: Validation targets of dimension (N_val_samples x output_size)\n",
    "    - tr_verbose: 'Flag' to view training progress\n",
    "\n",
    "    Returns:\n",
    "    - losses: Training losses\n",
    "    - val_losses: Validation losses\n",
    "    - model: trained model\n",
    "    \"\"\"\n",
    "    optimizer = optim.Adam(model.parameters(), lr=model.lr)\n",
    "    criterion = nn.MSELoss()\n",
    "    losses = []\n",
    "    val_losses = []\n",
    "    model.train()\n",
    "\n",
    "    for epoch in range(nepochs):\n",
    "        \n",
    "        optimizer.zero_grad()\n",
    "        X = Variable(tr_inputs, requires_grad=False).type(torch.FloatTensor).to(device)\n",
    "        \n",
    "        # Write your code here\n",
    "        tr_predictions = model.forward(X)\n",
    "        tr_loss = criterion(tr_predictions, tr_targets.to(device))\n",
    "        tr_loss.backward()\n",
    "        optimizer.step()\n",
    "        \n",
    "        losses.append(tr_loss.item())\n",
    "\n",
    "        with torch.no_grad():\n",
    "            \n",
    "            X_val = Variable(val_inputs, requires_grad=False).type(torch.FloatTensor).to(device)\n",
    "            val_predictions = model.forward(X_val)\n",
    "            val_loss = criterion(val_predictions, val_targets.to(device))\n",
    "            val_losses.append(val_loss.item())\n",
    "\n",
    "        if tr_verbose == True and (((epoch + 1) % 50) == 0 or epoch == 0):\n",
    "            print(\"Epoch: {}/{}, Training MSE Loss:{:.9f}, Val. MSE Loss:{:.9f} \".format(epoch+1, \n",
    "            model.num_epochs, tr_loss, val_loss))\n",
    "\n",
    "    return losses, val_losses, model\n"
   ]
  },
  {
   "cell_type": "markdown",
   "metadata": {
    "id": "S3T0x6G_WOO8"
   },
   "source": [
    "### Predict using RNN models\n",
    "\n",
    "This function describes the prediction algorithm using the trained RNN model. The RNN uses its own predictions to eventually constitute the input in future cycles.\n",
    "\n",
    "**Task**: \n",
    "- Complete the `predict_rnn` function by modifying `eval_input` so that in each iteration, the *test* prediction is appended to the end of the input, after it has been left-shifted. \n",
    "    *Hint:* Use `np.roll( )` to left the shift `eval_input` by a value equal to the model's output size (as for every input sample, the model predicts a single model predicts `output_size` number of values)\n",
    "   \n",
    "- The predictions are appended in a list. Finally convert them into a numpy array."
   ]
  },
  {
   "cell_type": "code",
   "execution_count": null,
   "metadata": {
    "id": "om06K6pmWOO9"
   },
   "outputs": [],
   "source": [
    "def predict_rnn(model, eval_input, n_predict):\n",
    "    \"\"\" This function defines the prediction algorithm. The predictions of the RNN model\n",
    "    are subsequently used as inputs for future predictions, i.e. eventually the test input \n",
    "    becomes composed of the predictions of the RNN.\n",
    "\n",
    "    Args:\n",
    "    - model: The trained model\n",
    "    - eval_input: The last sample of the training data (before val. split) input used as the starting \n",
    "    input for predicting the test set samples\n",
    "    - n_predict: The number of values to predict for the test data cycle\n",
    "\n",
    "    Returns:\n",
    "    - eval_predictions: The test set predictions as a numpy array\n",
    "    \"\"\"\n",
    "    eval_predictions = []\n",
    "    model.eval()\n",
    "    with torch.no_grad():\n",
    "\n",
    "        for _ in range(n_predict):\n",
    "            \n",
    "            X_eval = Variable(torch.Tensor(eval_input), requires_grad=False).type(torch.FloatTensor).to(device)\n",
    "            eval_prediction = model.forward(X_eval)\n",
    "            eval_predictions.append(eval_prediction.cpu().numpy())\n",
    "\n",
    "            # Left shifting the input array to include predictions\n",
    "            # Insert Code here\n",
    "            eval_input = np.roll(eval_input, shift=-model.output_size) \n",
    "            if eval_input.shape[1] is not None:\n",
    "                eval_input[:, -model.output_size] = eval_prediction.cpu().numpy()\n",
    "            else:\n",
    "                eval_input[-model.output_size] = eval_prediction.cpu().numpy()\n",
    "    \n",
    "    # Combine the predictions in a single numpy array. Use np.row_stack()\n",
    "    eval_predictions = np.row_stack(eval_predictions)\n",
    "    return eval_predictions"
   ]
  },
  {
   "cell_type": "markdown",
   "metadata": {
    "id": "ZgJ033BWWOO9"
   },
   "source": [
    "## Selecting the model to be used"
   ]
  },
  {
   "cell_type": "code",
   "execution_count": null,
   "metadata": {
    "id": "MWscoeaqWOO9"
   },
   "outputs": [],
   "source": [
    "#model_type = \"gru\"   #  \"gru\", \"rnn\", or \"lstm\"\n",
    "options = {\n",
    "    \"model_type\":\"gru\",\n",
    "    \"input_size\":1,\n",
    "    \"output_size\":output_size_tau,\n",
    "    \"n_hidden\":50,\n",
    "    \"n_layers\":2,\n",
    "    \"lr\":1e-3,\n",
    "    \"num_epochs\":800\n",
    "}\n",
    "model_gru = RNN_model(**options).to(device)"
   ]
  },
  {
   "cell_type": "code",
   "execution_count": null,
   "metadata": {
    "colab": {
     "base_uri": "https://localhost:8080/"
    },
    "id": "an5gmsrKWOO-",
    "outputId": "31661382-77d0-4efa-c62a-eec2642514d9"
   },
   "outputs": [
    {
     "name": "stdout",
     "output_type": "stream",
     "text": [
      "RNN_model(\n",
      "  (rnn): GRU(1, 50, num_layers=2, batch_first=True)\n",
      "  (fc): Linear(in_features=50, out_features=1, bias=True)\n",
      ")\n"
     ]
    }
   ],
   "source": [
    "print(model_gru)"
   ]
  },
  {
   "cell_type": "markdown",
   "metadata": {
    "id": "gcVNrrfZWOO-"
   },
   "source": [
    "## Running the training algorithm and generating predictions"
   ]
  },
  {
   "cell_type": "code",
   "execution_count": null,
   "metadata": {
    "colab": {
     "base_uri": "https://localhost:8080/"
    },
    "id": "fdoi_hd0WOO-",
    "outputId": "917bfc0d-daa7-4708-c666-d1bbc1aa988f"
   },
   "outputs": [
    {
     "name": "stdout",
     "output_type": "stream",
     "text": [
      "Epoch: 1/800, Training MSE Loss:0.180266678, Val. MSE Loss:0.188955083 \n",
      "Epoch: 50/800, Training MSE Loss:0.001724268, Val. MSE Loss:0.002425252 \n",
      "Epoch: 100/800, Training MSE Loss:0.000701574, Val. MSE Loss:0.000921146 \n",
      "Epoch: 150/800, Training MSE Loss:0.000473378, Val. MSE Loss:0.000620270 \n",
      "Epoch: 200/800, Training MSE Loss:0.000306382, Val. MSE Loss:0.000397530 \n",
      "Epoch: 250/800, Training MSE Loss:0.000137812, Val. MSE Loss:0.000172842 \n",
      "Epoch: 300/800, Training MSE Loss:0.000028293, Val. MSE Loss:0.000030566 \n",
      "Epoch: 350/800, Training MSE Loss:0.000015299, Val. MSE Loss:0.000015977 \n",
      "Epoch: 400/800, Training MSE Loss:0.000013252, Val. MSE Loss:0.000013619 \n",
      "Epoch: 450/800, Training MSE Loss:0.000011611, Val. MSE Loss:0.000011775 \n",
      "Epoch: 500/800, Training MSE Loss:0.000010250, Val. MSE Loss:0.000010260 \n",
      "Epoch: 550/800, Training MSE Loss:0.000009026, Val. MSE Loss:0.000008913 \n",
      "Epoch: 600/800, Training MSE Loss:0.000007860, Val. MSE Loss:0.000007645 \n",
      "Epoch: 650/800, Training MSE Loss:0.000006811, Val. MSE Loss:0.000006518 \n",
      "Epoch: 700/800, Training MSE Loss:0.000005976, Val. MSE Loss:0.000005639 \n",
      "Epoch: 750/800, Training MSE Loss:0.000005350, Val. MSE Loss:0.000004998 \n",
      "Epoch: 800/800, Training MSE Loss:0.000004847, Val. MSE Loss:0.000004503 \n"
     ]
    }
   ],
   "source": [
    "# To decide the level of output logs\n",
    "tr_verbose = True  \n",
    "tr_losses, val_losses, model_gru = train_rnn(model=model_gru, nepochs=model_gru.num_epochs, \n",
    "                                         tr_inputs=tr_inputs, tr_targets=tr_targets, \n",
    "                                         val_inputs=val_inputs, val_targets=val_targets, \n",
    "                                         tr_verbose=tr_verbose)"
   ]
  },
  {
   "cell_type": "markdown",
   "metadata": {
    "id": "1U9KjOJbWOO-"
   },
   "source": [
    "Plotting the training the validation losses versus number of training iterations"
   ]
  },
  {
   "cell_type": "code",
   "execution_count": null,
   "metadata": {
    "colab": {
     "base_uri": "https://localhost:8080/",
     "height": 360
    },
    "id": "2m8G3VC0WOO_",
    "outputId": "a3fae3da-6bb7-42fb-9680-f8feb7388ae1"
   },
   "outputs": [
    {
     "data": {
      "image/png": "[encoded data removed]",
      "text/plain": [
       "<Figure size 720x360 with 1 Axes>"
      ]
     },
     "metadata": {
      "needs_background": "light",
      "tags": []
     },
     "output_type": "display_data"
    }
   ],
   "source": [
    "if tr_verbose == True:\n",
    "    plot_losses(tr_losses=tr_losses, val_losses=val_losses, logscale=False)"
   ]
  },
  {
   "cell_type": "markdown",
   "metadata": {
    "id": "PYeUAFKCWOO_"
   },
   "source": [
    "## Obtain the predictions using trained GRU model\n",
    "\n",
    "The predictions are obtained by passing the last sample of the `training_data_inputs`. Think about the shape of the variable `training_data_inputs`, and why the final value is passed as `eval_input`."
   ]
  },
  {
   "cell_type": "code",
   "execution_count": null,
   "metadata": {
    "id": "h8w2NhxxWOO_"
   },
   "outputs": [],
   "source": [
    "\n",
    "if len(ytest) > 0:     # In case the 'future' cycle is still within the dataset\n",
    "    \n",
    "    # Predict the full next known cycle\n",
    "    predictions_gru = predict_rnn(model=model_gru, eval_input=train_data_inputs[-1, :, :].reshape((1, P, -1)), \n",
    "                               n_predict=len(ytest))\n",
    "    \n",
    "    # Write your code here\n",
    "    test_error_gru = mean_squared_error(y_true=ytest[:, -1], y_pred=predictions_gru)\n",
    "\n",
    "else:\n",
    "    # In case the 'future' cycle is beyond the dataset\n",
    "    \n",
    "    #NOTE: Heuristically setting the number of future predictions\n",
    "    predictions_gru = predict_rnn(model=model_gru, eval_input=train_data_inputs[-1, :, :].reshape((1, P, -1)), \n",
    "                                  n_predict=132)\n",
    "    test_error_gru = np.nan # No reference to compare for genearting Test error\n",
    "\n",
    "tr_error = tr_losses[-1] # latest training error\n",
    "val_error = val_losses[-1] # latest validation error"
   ]
  },
  {
   "cell_type": "code",
   "execution_count": null,
   "metadata": {
    "colab": {
     "base_uri": "https://localhost:8080/"
    },
    "id": "tao7O9JU5T-7",
    "outputId": "f3a0a54a-207e-42b2-ab6e-f3e913d9d480"
   },
   "outputs": [
    {
     "name": "stdout",
     "output_type": "stream",
     "text": [
      "Test error using GRU:0.002199476690735845\n"
     ]
    }
   ],
   "source": [
    "print(\"Test error using GRU:{}\".format(test_error_gru))"
   ]
  },
  {
   "cell_type": "markdown",
   "metadata": {
    "id": "Vti2GLafWOO_"
   },
   "source": [
    "### Visualizing predictions for the GRU model"
   ]
  },
  {
   "cell_type": "code",
   "execution_count": null,
   "metadata": {
    "colab": {
     "base_uri": "https://localhost:8080/",
     "height": 341
    },
    "id": "Fa5o8233WOPA",
    "outputId": "3b32567e-05a1-4a4d-ac55-382a74917356"
   },
   "outputs": [
    {
     "data": {
      "image/png": "[encoded data removed]",
      "text/plain": [
       "<Figure size 720x360 with 1 Axes>"
      ]
     },
     "metadata": {
      "needs_background": "light",
      "tags": []
     },
     "output_type": "display_data"
    }
   ],
   "source": [
    "if len(ytest) > 0:\n",
    "    # In case the 'future' cycle is still within the dataset\n",
    "    \n",
    "    # Normalized predictions in [0, 1]\n",
    "    plot_predictions(predictions=predictions_gru, ytest=ytest, \n",
    "                     title=\"{} model predictions with {} taps for cycle index {}\".format(\n",
    "                         \"gru\", num_taps_rnn, predict_cycle_num))\n",
    "\n",
    "else:\n",
    "    # In case the 'future' cycle is beyond the dataset\n",
    "    \n",
    "    # Normalized predictions in [0, 1]\n",
    "    plot_future_predictions(data=data, minimum_idx=minimum_idx, ytrain=ytrain, predictions=predictions_gru,\n",
    "    title=\"Plot of original timeseries and future predictions for {} for cycle index {}\".format(\n",
    "        model_type, predict_cycle_num))"
   ]
  },
  {
   "cell_type": "markdown",
   "metadata": {
    "id": "mYfTZjw1WOPA"
   },
   "source": [
    "## Running training and predictions for LSTM model\n",
    "\n",
    "**Tasks**: \n",
    "- Select \"lstm\" as one of the options and load the appropriate model\n",
    "- Similar to the GRU model:\n",
    "    - Train an LSTM model by calling `train_rnn` function. Experiment with hyperparameters if necessary.\n",
    "    - Obtain the predictions by calling `predict_rnn`\n",
    "- Compare the predictions using LSTM and GRUs"
   ]
  },
  {
   "cell_type": "code",
   "execution_count": null,
   "metadata": {
    "colab": {
     "base_uri": "https://localhost:8080/"
    },
    "id": "eyMteTVgWOPA",
    "outputId": "0b9ac7ff-b094-4d8b-a919-450522557d6a"
   },
   "outputs": [
    {
     "name": "stdout",
     "output_type": "stream",
     "text": [
      "RNN_model(\n",
      "  (rnn): LSTM(1, 50, num_layers=2, batch_first=True)\n",
      "  (fc): Linear(in_features=50, out_features=1, bias=True)\n",
      ")\n"
     ]
    }
   ],
   "source": [
    "options_lstm= {\n",
    "    \"input_size\":1,\n",
    "    \"output_size\":output_size_tau,\n",
    "    \"n_hidden\":50,\n",
    "    \"n_layers\":2,\n",
    "    \"model_type\":\"lstm\",\n",
    "    \"lr\":1e-3,\n",
    "    \"num_epochs\":800\n",
    "}\n",
    "model_lstm = RNN_model(**options_lstm).to(device)\n",
    "print(model_lstm)"
   ]
  },
  {
   "cell_type": "code",
   "execution_count": null,
   "metadata": {
    "colab": {
     "base_uri": "https://localhost:8080/"
    },
    "id": "WE_DLC3AWOPB",
    "outputId": "0cc328fd-ee31-4374-c4cc-80ea810bbe6f"
   },
   "outputs": [
    {
     "name": "stdout",
     "output_type": "stream",
     "text": [
      "Epoch: 1/800, Training MSE Loss:0.141302273, Val. MSE Loss:0.161024168 \n",
      "Epoch: 50/800, Training MSE Loss:0.009457939, Val. MSE Loss:0.010842412 \n",
      "Epoch: 100/800, Training MSE Loss:0.002161628, Val. MSE Loss:0.002603555 \n",
      "Epoch: 150/800, Training MSE Loss:0.000200082, Val. MSE Loss:0.000210998 \n",
      "Epoch: 200/800, Training MSE Loss:0.000059756, Val. MSE Loss:0.000061846 \n",
      "Epoch: 250/800, Training MSE Loss:0.000041644, Val. MSE Loss:0.000042177 \n",
      "Epoch: 300/800, Training MSE Loss:0.000034254, Val. MSE Loss:0.000034223 \n",
      "Epoch: 350/800, Training MSE Loss:0.000029873, Val. MSE Loss:0.000029890 \n",
      "Epoch: 400/800, Training MSE Loss:0.000026647, Val. MSE Loss:0.000026847 \n",
      "Epoch: 450/800, Training MSE Loss:0.000024076, Val. MSE Loss:0.000024472 \n",
      "Epoch: 500/800, Training MSE Loss:0.000022127, Val. MSE Loss:0.000022658 \n",
      "Epoch: 550/800, Training MSE Loss:0.000020032, Val. MSE Loss:0.000020885 \n",
      "Epoch: 600/800, Training MSE Loss:0.000018319, Val. MSE Loss:0.000019314 \n",
      "Epoch: 650/800, Training MSE Loss:0.000017246, Val. MSE Loss:0.000019795 \n",
      "Epoch: 700/800, Training MSE Loss:0.000015505, Val. MSE Loss:0.000016760 \n",
      "Epoch: 750/800, Training MSE Loss:0.000014252, Val. MSE Loss:0.000015562 \n",
      "Epoch: 800/800, Training MSE Loss:0.000019406, Val. MSE Loss:0.000014731 \n"
     ]
    }
   ],
   "source": [
    "# To decide the level of output logs\n",
    "tr_verbose = True\n",
    "tr_losses_lstm, val_losses_lstm, model_lstm = train_rnn(model=model_lstm, nepochs=model_lstm.num_epochs, \n",
    "                                         tr_inputs=tr_inputs, tr_targets=tr_targets, \n",
    "                                         val_inputs=val_inputs, val_targets=val_targets, \n",
    "                                         tr_verbose=tr_verbose)"
   ]
  },
  {
   "cell_type": "code",
   "execution_count": null,
   "metadata": {
    "id": "szDDPaSqWOPC"
   },
   "outputs": [],
   "source": [
    "## Obtain the predictions using trained LSTM model\n",
    "if len(ytest) > 0:\n",
    "    # In case the 'future' cycle is still within the dataset\n",
    "    #with torch.no_grad():\n",
    "    #    xtest = train_data_inputs[-1, :, :].reshape((1, P, -1))\n",
    "    #    xtest = Variable(torch.Tensor(xtest), requires_grad=False).type(torch.FloatTensor).to(device)\n",
    "    #    predictions_lstm = model_lstm.forward(xtest).reshape((-1, 1))\n",
    "    predictions_lstm = predict_rnn(model=model_lstm, eval_input=train_data_inputs[-1, :, :].reshape((1, P, -1)), \n",
    "                                  n_predict=len(ytest))\n",
    "    test_error_lstm = mean_squared_error(y_true=ytest[:, -1], y_pred=predictions_lstm)\n",
    "\n",
    "else:\n",
    "    # In case the 'future' cycle is beyond the dataset\n",
    "    #NOTE: Needs to be fixed!!\n",
    "    #NOTE: Heuristically setting the number of future predictions\n",
    "    #xtest = train_data_inputs[-1, :, :].reshape((1, P, -1))\n",
    "    #xtest = Variable(torch.Tensor(xt), requires_grad=False).type(torch.FloatTensor).to(device)\n",
    "    #predictions_lstm = model_gru.forward(xtest).reshape((-1, 1))\n",
    "    predictions_lstm = predict_rnn(model=model_lstm, eval_input=train_data_inputs[-1, :, :].reshape((1, P, -1)), \n",
    "                                  n_predict=132)\n",
    "    test_error_lstm = np.nan # No reference to compare for genearting Test error\n",
    "\n",
    "tr_error = tr_losses_lstm[-1] # latest training error\n",
    "val_error = val_losses_lstm[-1] # latest validation error"
   ]
  },
  {
   "cell_type": "code",
   "execution_count": null,
   "metadata": {
    "colab": {
     "base_uri": "https://localhost:8080/"
    },
    "id": "geD3Ivb_5T-9",
    "outputId": "03cf88f6-7f26-4eb1-ff58-74e98615f2ac"
   },
   "outputs": [
    {
     "name": "stdout",
     "output_type": "stream",
     "text": [
      "Test error using LSTM:0.005520575719016473\n"
     ]
    }
   ],
   "source": [
    "print(\"Test error using LSTM:{}\".format(test_error_lstm))"
   ]
  },
  {
   "cell_type": "code",
   "execution_count": null,
   "metadata": {
    "colab": {
     "base_uri": "https://localhost:8080/",
     "height": 341
    },
    "id": "ISzxVOzxWOPC",
    "outputId": "cc9df46e-61c6-4421-ff36-3f150e85d2d0"
   },
   "outputs": [
    {
     "data": {
      "image/png": "[encoded data removed]",
      "text/plain": [
       "<Figure size 720x360 with 1 Axes>"
      ]
     },
     "metadata": {
      "needs_background": "light",
      "tags": []
     },
     "output_type": "display_data"
    }
   ],
   "source": [
    "# Visualise the predictions\n",
    "if len(ytest) > 0:\n",
    "    # In case the 'future' cycle is still within the dataset\n",
    "    \n",
    "    # Normalized predictions in [0, 1]\n",
    "    plot_predictions(predictions=predictions_lstm, ytest=ytest, \n",
    "                     title=\"{} model predictions with {} taps for cycle index {}\".format(\n",
    "                         \"lstm\", num_taps_rnn, predict_cycle_num))\n",
    "\n",
    "else:\n",
    "    # In case the 'future' cycle is beyond the dataset\n",
    "    \n",
    "    # Normalized predictions in [0, 1]\n",
    "    plot_future_predictions(data=data, minimum_idx=minimum_idx, ytrain=ytrain, predictions=predictions_lstm,\n",
    "                title=\"Plot of original timeseries and future predictions for {} for cycle index {}\".format(\n",
    "                \"lstm\", predict_cycle_num))\n",
    "    \n",
    "    "
   ]
  },
  {
   "cell_type": "code",
   "execution_count": null,
   "metadata": {
    "colab": {
     "base_uri": "https://localhost:8080/",
     "height": 341
    },
    "id": "5s8JJguTWOPD",
    "outputId": "53dc128a-3586-45ad-8a57-b21fc37e8f28"
   },
   "outputs": [
    {
     "data": {
      "image/png": "[encoded data removed]",
      "text/plain": [
       "<Figure size 720x360 with 1 Axes>"
      ]
     },
     "metadata": {
      "needs_background": "light",
      "tags": []
     },
     "output_type": "display_data"
    }
   ],
   "source": [
    "# Plot the LSTM, GRU predictions\n",
    "plt.figure(figsize=(10,5))\n",
    "plt.title(\"Compare predictions for given cycle\", fontsize=20)\n",
    "plt.plot(ytest[:,0], ytest[:,1], '+-', label=\"actual test signal\", color=\"orange\")\n",
    "plt.plot(ytest[:,0], predictions_esn, '.-', label=\"ESN prediction\", color=\"black\")\n",
    "plt.plot(ytest[:,0], predictions_gru, '*-', label=\"GRU prediction\", color=\"green\")\n",
    "plt.plot(ytest[:,0], predictions_lstm, '.-', label=\"LSTM prediction\", color=\"blue\")\n",
    "plt.legend(fontsize=16)\n",
    "plt.show()"
   ]
  },
  {
   "cell_type": "markdown",
   "metadata": {
    "id": "IF0QR1i6yNwZ"
   },
   "source": [
    "Using some additional metrics for comparison between the models such MAE, R2_Score"
   ]
  },
  {
   "cell_type": "code",
   "execution_count": null,
   "metadata": {
    "id": "BPY6cY8twYFD"
   },
   "outputs": [],
   "source": [
    "import pandas as pd\n",
    "from sklearn.metrics import  mean_squared_error, mean_absolute_error, r2_score\n",
    "\n",
    "def compute_metric(actual_y, pred_y, type):\n",
    "    \n",
    "    if type == 'mse':\n",
    "        return mean_squared_error(actual_y, pred_y)\n",
    "    elif type == 'mae':\n",
    "        return mean_absolute_error(actual_y, pred_y)\n",
    "    elif type == 'r2':\n",
    "        return r2_score(actual_y, pred_y)\n",
    "\n",
    "pred_dicts = {\n",
    "        \"actual\":ytest[:, 1],\n",
    "        \"esn\":predictions_esn,\n",
    "        \"lstm\":predictions_lstm,\n",
    "        \"gru\":predictions_gru\n",
    "    }\n",
    "    \n",
    "df_metrics = []\n",
    "for model_name in [\"esn\", \"lstm\", \"gru\"]:\n",
    "    df_metrics.append([model_name, \n",
    "                      compute_metric(pred_dicts[\"actual\"], pred_dicts[model_name], type=\"mse\"),\n",
    "                      compute_metric(pred_dicts[\"actual\"], pred_dicts[model_name], type=\"mae\"),\n",
    "                      compute_metric(pred_dicts[\"actual\"], pred_dicts[model_name], type=\"r2\"),\n",
    "                      ])\n",
    "\n",
    "metrics_columns = [\"Model_Name\", \"Test MSE\", \"Test MAE\", \"Test R2\"]\n",
    "df_compare_metrics = pd.DataFrame(df_metrics, columns=metrics_columns)\n"
   ]
  },
  {
   "cell_type": "code",
   "execution_count": null,
   "metadata": {
    "colab": {
     "base_uri": "https://localhost:8080/",
     "height": 142
    },
    "id": "XmpF5oJ8x_lW",
    "outputId": "a6855c0f-5795-4b9e-fba5-7305367532df"
   },
   "outputs": [
    {
     "data": {
      "text/html": [
       "<div>\n",
       "<style scoped>\n",
       "    .dataframe tbody tr th:only-of-type {\n",
       "        vertical-align: middle;\n",
       "    }\n",
       "\n",
       "    .dataframe tbody tr th {\n",
       "        vertical-align: top;\n",
       "    }\n",
       "\n",
       "    .dataframe thead th {\n",
       "        text-align: right;\n",
       "    }\n",
       "</style>\n",
       "<table border=\"1\" class=\"dataframe\">\n",
       "  <thead>\n",
       "    <tr style=\"text-align: right;\">\n",
       "      <th></th>\n",
       "      <th>Model_Name</th>\n",
       "      <th>Test MSE</th>\n",
       "      <th>Test MAE</th>\n",
       "      <th>Test R2</th>\n",
       "    </tr>\n",
       "  </thead>\n",
       "  <tbody>\n",
       "    <tr>\n",
       "      <th>0</th>\n",
       "      <td>esn</td>\n",
       "      <td>0.002989</td>\n",
       "      <td>0.040993</td>\n",
       "      <td>0.901685</td>\n",
       "    </tr>\n",
       "    <tr>\n",
       "      <th>1</th>\n",
       "      <td>lstm</td>\n",
       "      <td>0.005521</td>\n",
       "      <td>0.065101</td>\n",
       "      <td>0.818432</td>\n",
       "    </tr>\n",
       "    <tr>\n",
       "      <th>2</th>\n",
       "      <td>gru</td>\n",
       "      <td>0.002199</td>\n",
       "      <td>0.040370</td>\n",
       "      <td>0.927661</td>\n",
       "    </tr>\n",
       "  </tbody>\n",
       "</table>\n",
       "</div>"
      ],
      "text/plain": [
       "  Model_Name  Test MSE  Test MAE   Test R2\n",
       "0        esn  0.002989  0.040993  0.901685\n",
       "1       lstm  0.005521  0.065101  0.818432\n",
       "2        gru  0.002199  0.040370  0.927661"
      ]
     },
     "execution_count": 60,
     "metadata": {
      "tags": []
     },
     "output_type": "execute_result"
    }
   ],
   "source": [
    "# See the scores on a dataframe\n",
    "df_compare_metrics"
   ]
  },
  {
   "cell_type": "markdown",
   "metadata": {
    "id": "Dnswc1i4WOPD"
   },
   "source": [
    "**Additional Tasks**: \n",
    "\n",
    "- Try to tune the model hyperparameters for LSTM to see if a better result can be obtained for the given model prediction. Insert some new code after this part, by reusing the existing code and experiment with the \n",
    "model `options` such `n_layers` or `n_hidden`, etc.\n",
    "\n",
    "- *(Optional)* **Checking the variance of the predictions**: \n",
    "Try to simulate the GRU and LSTM models training many times (set the verbosity flag to False), and plot a figure that shows how the mean prediction across the number of simulations and the standard deviation of the predictions. Compare it with the actual test prediction. This would give an idea of how consistent the training of such complex models are."
   ]
  },
  {
   "cell_type": "code",
   "execution_count": null,
   "metadata": {
    "id": "b8xeLrciWOPD"
   },
   "outputs": [],
   "source": [
    "# Insert Codes here\n",
    "# ...\n",
    "# ..."
   ]
  }
 ],
 "metadata": {
  "accelerator": "GPU",
  "colab": {
   "collapsed_sections": [],
   "name": "TimeSeriesPrediction_Solution_v3.ipynb",
   "provenance": []
  },
  "kernelspec": {
   "display_name": "Python 3",
   "language": "python",
   "name": "python3"
  },
  "language_info": {
   "codemirror_mode": {
    "name": "ipython",
    "version": 3
   },
   "file_extension": ".py",
   "mimetype": "text/x-python",
   "name": "python",
   "nbconvert_exporter": "python",
   "pygments_lexer": "ipython3",
   "version": "3.8.10"
  },
  "toc": {
   "base_numbering": 1,
   "nav_menu": {},
   "number_sections": false,
   "sideBar": true,
   "skip_h1_title": false,
   "title_cell": "Table of Contents",
   "title_sidebar": "Contents",
   "toc_cell": false,
   "toc_position": {},
   "toc_section_display": true,
   "toc_window_display": false
  }
 },
 "nbformat": 4,
 "nbformat_minor": 1
}
